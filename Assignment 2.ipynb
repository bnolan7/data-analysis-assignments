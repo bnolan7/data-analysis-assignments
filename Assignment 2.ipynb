{
 "cells": [
  {
   "cell_type": "markdown",
   "metadata": {
    "colab_type": "text",
    "id": "-Af4ccUrk_2l"
   },
   "source": [
    "# Assignment 2\n",
    "## Generalized linear models and interactions\n",
    "\n",
    "In this assignment we will investigate data from the psychophysics experiment of memory merging but in its discrete response variant. The data is in the folder *Experiment1* within the folder *Psychophysics*. In brief, participants were faced again with circular arrays of stimuli (in this experiment there could be 3 or 4 colored dots) while fixating. Following the delay period (in this experiment delays were variable and could be 0.1, 1 or 3 seconds) a colored probe stimulus appeared slightly displaced relative to the color-matching cue stimulus, and participants had to indicate with a button press whether this displacement was in the clockwise (CW, response 1) or anticlockwise (CCW, response 0) direction. Data from 8 different participants were acquired.\n",
    "\n",
    "So, the important differences with the previous design are:\n",
    " - responses are not continuous (an angular location taking arbitrary values from -$\\pi$ to $\\pi$) but categorical (CW or CCW, with just two possible discrete responses)\n",
    " - apart from CW/CCW trials as in our previous assignment, there are now other factors of interest in our design (memory load: 3 or 4 items, and delay duration: 0.1, 1 or 3 s)\n",
    "\n",
    "We will capitalize on these differences in this assignment to learn two important concepts and associated methods:\n",
    " - generalized linear models (to deal with binary/categorical response experiments)\n",
    " - interactions (to deal with multiple factors of interest and identify an interaction of interest design)\n",
    "\n",
    "\n"
   ]
  },
  {
   "cell_type": "code",
   "execution_count": 1,
   "metadata": {
    "colab": {},
    "colab_type": "code",
    "id": "2aF-qjnYk_2s"
   },
   "outputs": [],
   "source": [
    "#we first load pachages that we will need\n",
    "import numpy as np\n",
    "import matplotlib.pyplot as plt\n",
    "from cmath import phase, exp\n",
    "import pandas as pd\n",
    "\n",
    "def circdist_rad(angles1,angles2):\n",
    "    ### input in randians\n",
    "    ### return radians\n",
    "    return np.array( list (map(lambda a1,a2: phase(exp(1j*a1)/exp(1j*a2)), angles1,angles2)) )"
   ]
  },
  {
   "cell_type": "markdown",
   "metadata": {
    "colab_type": "text",
    "id": "c9v-j3dxk_24"
   },
   "source": [
    "We import the data first. You will get a matrix with each trial in one row. The columns contain the following information: response (1=CW, -1=CCW); angle of probe (in radians); angle of target (in radians); angle of nearest non-target (in radians); subject number; trial load (3 items/4 items); delay duration (0.1/1/3 seconds). We turn it into a Pandas dataframe.\n"
   ]
  },
  {
   "cell_type": "code",
   "execution_count": 2,
   "metadata": {
    "colab": {},
    "colab_type": "code",
    "id": "58d_freak_27"
   },
   "outputs": [
    {
     "data": {
      "text/html": [
       "<div>\n",
       "<style scoped>\n",
       "    .dataframe tbody tr th:only-of-type {\n",
       "        vertical-align: middle;\n",
       "    }\n",
       "\n",
       "    .dataframe tbody tr th {\n",
       "        vertical-align: top;\n",
       "    }\n",
       "\n",
       "    .dataframe thead th {\n",
       "        text-align: right;\n",
       "    }\n",
       "</style>\n",
       "<table border=\"1\" class=\"dataframe\">\n",
       "  <thead>\n",
       "    <tr style=\"text-align: right;\">\n",
       "      <th></th>\n",
       "      <th>response</th>\n",
       "      <th>probe</th>\n",
       "      <th>target</th>\n",
       "      <th>near</th>\n",
       "      <th>subj</th>\n",
       "      <th>load</th>\n",
       "      <th>delay</th>\n",
       "    </tr>\n",
       "  </thead>\n",
       "  <tbody>\n",
       "    <tr>\n",
       "      <td>0</td>\n",
       "      <td>-1.0</td>\n",
       "      <td>0.31416</td>\n",
       "      <td>0.41888</td>\n",
       "      <td>0.17453</td>\n",
       "      <td>1.0</td>\n",
       "      <td>3.0</td>\n",
       "      <td>0.1</td>\n",
       "    </tr>\n",
       "    <tr>\n",
       "      <td>1</td>\n",
       "      <td>-1.0</td>\n",
       "      <td>5.42800</td>\n",
       "      <td>5.35820</td>\n",
       "      <td>5.16620</td>\n",
       "      <td>1.0</td>\n",
       "      <td>3.0</td>\n",
       "      <td>0.1</td>\n",
       "    </tr>\n",
       "    <tr>\n",
       "      <td>2</td>\n",
       "      <td>1.0</td>\n",
       "      <td>2.56560</td>\n",
       "      <td>2.63540</td>\n",
       "      <td>5.04400</td>\n",
       "      <td>1.0</td>\n",
       "      <td>3.0</td>\n",
       "      <td>0.1</td>\n",
       "    </tr>\n",
       "    <tr>\n",
       "      <td>3</td>\n",
       "      <td>-1.0</td>\n",
       "      <td>5.82940</td>\n",
       "      <td>5.68980</td>\n",
       "      <td>0.55851</td>\n",
       "      <td>1.0</td>\n",
       "      <td>4.0</td>\n",
       "      <td>0.1</td>\n",
       "    </tr>\n",
       "    <tr>\n",
       "      <td>4</td>\n",
       "      <td>-1.0</td>\n",
       "      <td>1.34390</td>\n",
       "      <td>1.27410</td>\n",
       "      <td>1.04720</td>\n",
       "      <td>1.0</td>\n",
       "      <td>3.0</td>\n",
       "      <td>0.1</td>\n",
       "    </tr>\n",
       "    <tr>\n",
       "      <td>5</td>\n",
       "      <td>1.0</td>\n",
       "      <td>1.37880</td>\n",
       "      <td>1.48350</td>\n",
       "      <td>1.22170</td>\n",
       "      <td>1.0</td>\n",
       "      <td>3.0</td>\n",
       "      <td>0.1</td>\n",
       "    </tr>\n",
       "    <tr>\n",
       "      <td>6</td>\n",
       "      <td>-1.0</td>\n",
       "      <td>3.82230</td>\n",
       "      <td>3.71760</td>\n",
       "      <td>3.94440</td>\n",
       "      <td>1.0</td>\n",
       "      <td>4.0</td>\n",
       "      <td>0.1</td>\n",
       "    </tr>\n",
       "    <tr>\n",
       "      <td>7</td>\n",
       "      <td>-1.0</td>\n",
       "      <td>4.50290</td>\n",
       "      <td>4.36330</td>\n",
       "      <td>5.25340</td>\n",
       "      <td>1.0</td>\n",
       "      <td>4.0</td>\n",
       "      <td>0.1</td>\n",
       "    </tr>\n",
       "    <tr>\n",
       "      <td>8</td>\n",
       "      <td>1.0</td>\n",
       "      <td>1.88500</td>\n",
       "      <td>1.78020</td>\n",
       "      <td>1.98970</td>\n",
       "      <td>1.0</td>\n",
       "      <td>4.0</td>\n",
       "      <td>0.1</td>\n",
       "    </tr>\n",
       "    <tr>\n",
       "      <td>9</td>\n",
       "      <td>-1.0</td>\n",
       "      <td>4.15390</td>\n",
       "      <td>4.04920</td>\n",
       "      <td>2.32130</td>\n",
       "      <td>1.0</td>\n",
       "      <td>3.0</td>\n",
       "      <td>0.1</td>\n",
       "    </tr>\n",
       "  </tbody>\n",
       "</table>\n",
       "</div>"
      ],
      "text/plain": [
       "   response    probe   target     near  subj  load  delay\n",
       "0      -1.0  0.31416  0.41888  0.17453   1.0   3.0    0.1\n",
       "1      -1.0  5.42800  5.35820  5.16620   1.0   3.0    0.1\n",
       "2       1.0  2.56560  2.63540  5.04400   1.0   3.0    0.1\n",
       "3      -1.0  5.82940  5.68980  0.55851   1.0   4.0    0.1\n",
       "4      -1.0  1.34390  1.27410  1.04720   1.0   3.0    0.1\n",
       "5       1.0  1.37880  1.48350  1.22170   1.0   3.0    0.1\n",
       "6      -1.0  3.82230  3.71760  3.94440   1.0   4.0    0.1\n",
       "7      -1.0  4.50290  4.36330  5.25340   1.0   4.0    0.1\n",
       "8       1.0  1.88500  1.78020  1.98970   1.0   4.0    0.1\n",
       "9      -1.0  4.15390  4.04920  2.32130   1.0   3.0    0.1"
      ]
     },
     "execution_count": 2,
     "metadata": {},
     "output_type": "execute_result"
    }
   ],
   "source": [
    "data = np.loadtxt(\"C:\\\\Users\\\\bnola\\\\Documents\\\\Data Analysis\\\\all_subjs_exp1.csv\",delimiter=',')\n",
    "\n",
    "df = pd.DataFrame(data)\n",
    "df.columns=['response', 'probe', 'target', 'near', 'subj', 'load', 'delay']\n",
    "df.head(10)"
   ]
  },
  {
   "cell_type": "markdown",
   "metadata": {
    "colab_type": "text",
    "id": "c3WHlkjJk_3C"
   },
   "source": [
    "### Exercise 1: performance in the task\n",
    "\n",
    "First, let us run a generalized linear model to model participants’ responses just based on the distance of the probe stimulus to the target stimulus, we will collapse that from all subjects. We know that we need to use a generalized linear model because errors in our response data are not Gaussian distributed (it is actually a list of 1’s and -1’s!). Instead, our best hypothesis is that this binary response has an underlying Bernouilli error distribution, and its aggregate in multiple trials a binomial distribution. We thus model the data using *sm.glm* with a binomial distribution (check the Python help). \n",
    "\n",
    "This is also known as “logistic regression”. As a predictor we will for now only consider the parameter that controls the difficulty of the task: the distance between the probe and the target stimulus *probe_target* (remember these are angles and you want to use *circ_dist_rad*). \n",
    "\n",
    "First, add this predictor *probe_target* to our dataframe. Also, for the logistic regression estimation we need the dependent variable *response* to be a list of 1's and 0's, not a list of 1's and -1's. Write also some code to change current -1's into 0's in the column *response* of our dataframe."
   ]
  },
  {
   "cell_type": "code",
   "execution_count": 3,
   "metadata": {},
   "outputs": [
    {
     "name": "stdout",
     "output_type": "stream",
     "text": [
      "Object `smf.glm` not found.\n"
     ]
    }
   ],
   "source": [
    "smf.glm?"
   ]
  },
  {
   "cell_type": "code",
   "execution_count": 4,
   "metadata": {},
   "outputs": [
    {
     "data": {
      "text/html": [
       "<div>\n",
       "<style scoped>\n",
       "    .dataframe tbody tr th:only-of-type {\n",
       "        vertical-align: middle;\n",
       "    }\n",
       "\n",
       "    .dataframe tbody tr th {\n",
       "        vertical-align: top;\n",
       "    }\n",
       "\n",
       "    .dataframe thead th {\n",
       "        text-align: right;\n",
       "    }\n",
       "</style>\n",
       "<table border=\"1\" class=\"dataframe\">\n",
       "  <thead>\n",
       "    <tr style=\"text-align: right;\">\n",
       "      <th></th>\n",
       "      <th>response</th>\n",
       "      <th>probe</th>\n",
       "      <th>target</th>\n",
       "      <th>near</th>\n",
       "      <th>subj</th>\n",
       "      <th>load</th>\n",
       "      <th>delay</th>\n",
       "      <th>probe_target</th>\n",
       "    </tr>\n",
       "  </thead>\n",
       "  <tbody>\n",
       "    <tr>\n",
       "      <td>0</td>\n",
       "      <td>0</td>\n",
       "      <td>0.31416</td>\n",
       "      <td>0.41888</td>\n",
       "      <td>0.17453</td>\n",
       "      <td>1.0</td>\n",
       "      <td>3.0</td>\n",
       "      <td>0.1</td>\n",
       "      <td>-0.10472</td>\n",
       "    </tr>\n",
       "    <tr>\n",
       "      <td>1</td>\n",
       "      <td>0</td>\n",
       "      <td>5.42800</td>\n",
       "      <td>5.35820</td>\n",
       "      <td>5.16620</td>\n",
       "      <td>1.0</td>\n",
       "      <td>3.0</td>\n",
       "      <td>0.1</td>\n",
       "      <td>0.06980</td>\n",
       "    </tr>\n",
       "    <tr>\n",
       "      <td>2</td>\n",
       "      <td>1</td>\n",
       "      <td>2.56560</td>\n",
       "      <td>2.63540</td>\n",
       "      <td>5.04400</td>\n",
       "      <td>1.0</td>\n",
       "      <td>3.0</td>\n",
       "      <td>0.1</td>\n",
       "      <td>-0.06980</td>\n",
       "    </tr>\n",
       "    <tr>\n",
       "      <td>3</td>\n",
       "      <td>0</td>\n",
       "      <td>5.82940</td>\n",
       "      <td>5.68980</td>\n",
       "      <td>0.55851</td>\n",
       "      <td>1.0</td>\n",
       "      <td>4.0</td>\n",
       "      <td>0.1</td>\n",
       "      <td>0.13960</td>\n",
       "    </tr>\n",
       "    <tr>\n",
       "      <td>4</td>\n",
       "      <td>0</td>\n",
       "      <td>1.34390</td>\n",
       "      <td>1.27410</td>\n",
       "      <td>1.04720</td>\n",
       "      <td>1.0</td>\n",
       "      <td>3.0</td>\n",
       "      <td>0.1</td>\n",
       "      <td>0.06980</td>\n",
       "    </tr>\n",
       "  </tbody>\n",
       "</table>\n",
       "</div>"
      ],
      "text/plain": [
       "   response    probe   target     near  subj  load  delay  probe_target\n",
       "0         0  0.31416  0.41888  0.17453   1.0   3.0    0.1      -0.10472\n",
       "1         0  5.42800  5.35820  5.16620   1.0   3.0    0.1       0.06980\n",
       "2         1  2.56560  2.63540  5.04400   1.0   3.0    0.1      -0.06980\n",
       "3         0  5.82940  5.68980  0.55851   1.0   4.0    0.1       0.13960\n",
       "4         0  1.34390  1.27410  1.04720   1.0   3.0    0.1       0.06980"
      ]
     },
     "execution_count": 4,
     "metadata": {},
     "output_type": "execute_result"
    }
   ],
   "source": [
    "# add a new column to the dataframe: the distance between the probe and the target\n",
    "df['probe_target']=circdist_rad(df.probe , df.target );\n",
    "\n",
    "# change the column 'response': all -1's become 0's\n",
    "df.response=(df.response>0)*1\n",
    "\n",
    "df.head(5)"
   ]
  },
  {
   "cell_type": "markdown",
   "metadata": {},
   "source": [
    "We are now ready to run a simple logistic regression model to see how responses were modulated by the probe_target distance. Notice that this is a control of performance for our task. If there was no dependency of responses on probe_target, this would mean that participants were not doing the task correctly and we should throw away the data. First look up the function *glm* in the module *statsmodels* in Google to see how you can use it. Then fill in the gaps to run this simple generalized linear model with a single predictor and the binomial family to run a logistic regresstion."
   ]
  },
  {
   "cell_type": "code",
   "execution_count": 5,
   "metadata": {},
   "outputs": [
    {
     "data": {
      "text/plain": [
       "<bound method Model.from_formula of <class 'statsmodels.genmod.generalized_linear_model.GLM'>>"
      ]
     },
     "execution_count": 5,
     "metadata": {},
     "output_type": "execute_result"
    }
   ],
   "source": [
    "import statsmodels.formula.api as smf\n",
    "import statsmodels.api as sm\n",
    "smf.glm"
   ]
  },
  {
   "cell_type": "code",
   "execution_count": null,
   "metadata": {},
   "outputs": [],
   "source": []
  },
  {
   "cell_type": "code",
   "execution_count": 6,
   "metadata": {
    "colab": {},
    "colab_type": "code",
    "id": "tjkbo6dTk_3F",
    "outputId": "3bb54d79-663c-4ed1-84c4-a5b23d557f33"
   },
   "outputs": [
    {
     "name": "stdout",
     "output_type": "stream",
     "text": [
      "                 Generalized Linear Model Regression Results                  \n",
      "==============================================================================\n",
      "Dep. Variable:               response   No. Observations:                 3530\n",
      "Model:                            GLM   Df Residuals:                     3528\n",
      "Model Family:                Binomial   Df Model:                            1\n",
      "Link Function:                  logit   Scale:                          1.0000\n",
      "Method:                          IRLS   Log-Likelihood:                -2158.8\n",
      "Date:                Fri, 14 Feb 2020   Deviance:                       4317.5\n",
      "Time:                        18:22:13   Pearson chi2:                 3.53e+03\n",
      "No. Iterations:                     4                                         \n",
      "Covariance Type:            nonrobust                                         \n",
      "================================================================================\n",
      "                   coef    std err          z      P>|z|      [0.025      0.975]\n",
      "--------------------------------------------------------------------------------\n",
      "Intercept       -0.1121      0.037     -3.053      0.002      -0.184      -0.040\n",
      "probe_target    -7.7875      0.345    -22.594      0.000      -8.463      -7.112\n",
      "================================================================================\n"
     ]
    }
   ],
   "source": [
    "import statsmodels.formula.api as smf\n",
    "import statsmodels.api as sm\n",
    "\n",
    "mod = smf.glm(formula= 'response ~ probe_target', data= df , family= sm.families.Binomial() )\n",
    "res = mod.fit()\n",
    "\n",
    "print(res.summary())"
   ]
  },
  {
   "cell_type": "markdown",
   "metadata": {
    "colab_type": "text",
    "id": "5j17XumIk_3R"
   },
   "source": [
    "Does the model provide a good fit? We can assess that by plotting the fitted response values. You can obtain those from the results of the model fit *res*. "
   ]
  },
  {
   "cell_type": "code",
   "execution_count": 7,
   "metadata": {
    "colab": {},
    "colab_type": "code",
    "id": "rE-KyAcfk_3T",
    "outputId": "ee429a42-7b88-4ed9-ff83-a424bb9c6ac9"
   },
   "outputs": [
    {
     "data": {
      "image/png": "[encoded data removed]",
      "text/plain": [
       "<Figure size 432x288 with 1 Axes>"
      ]
     },
     "metadata": {
      "needs_background": "light"
     },
     "output_type": "display_data"
    }
   ],
   "source": [
    "yfit = res.fittedvalues\n",
    "plt.plot(df['probe_target'],yfit,'o');"
   ]
  },
  {
   "cell_type": "markdown",
   "metadata": {
    "colab_type": "text",
    "id": "XPF8lOh4k_3b"
   },
   "source": [
    "You can now plot a more continuous curve for your fit by providing a linearly spaced list of x's in the range between -0.4 and 0.4. The fitted model can give you the predicted y's for those x's with the function *res.predict* in the results of your model. "
   ]
  },
  {
   "cell_type": "code",
   "execution_count": 8,
   "metadata": {
    "colab": {},
    "colab_type": "code",
    "id": "QrOfY9cNk_3j",
    "outputId": "0d2314c7-2274-4184-e576-dc8973897121"
   },
   "outputs": [
    {
     "data": {
      "image/png": "[encoded data removed]",
      "text/plain": [
       "<Figure size 432x288 with 1 Axes>"
      ]
     },
     "metadata": {
      "needs_background": "light"
     },
     "output_type": "display_data"
    }
   ],
   "source": [
    "myx = np.linspace(-0.4,0.4,100)\n",
    "yfit=res.predict(exog=dict(probe_target= myx )) #alternatively: yfit = res.predict(exog={'probe_target':myx})\n",
    "plt.plot(myx,yfit,'-');"
   ]
  },
  {
   "cell_type": "markdown",
   "metadata": {
    "colab_type": "text",
    "id": "0dMDcra0k_3w"
   },
   "source": [
    "Now we plot the percent of responses for each possible distance between probe and target on top, to visualize how good our fit is. Does the model provide a good fit? "
   ]
  },
  {
   "cell_type": "code",
   "execution_count": 9,
   "metadata": {
    "colab": {},
    "colab_type": "code",
    "id": "Y88u23srk_3y",
    "outputId": "e606ca7b-2f09-42f7-cec6-dd106ed25e06"
   },
   "outputs": [
    {
     "data": {
      "image/png": "[encoded data removed]",
      "text/plain": [
       "<Figure size 432x288 with 1 Axes>"
      ]
     },
     "metadata": {
      "needs_background": "light"
     },
     "output_type": "display_data"
    }
   ],
   "source": [
    "#as before (3 lines copied from cell above)\n",
    "myx = np.linspace(-0.4,0.4,100)\n",
    "yfit=res.predict(exog=dict(probe_target= myx )) #alternatively: yfit = res.predict(exog={'probe_target':myx})\n",
    "plt.plot(myx,yfit,'-')\n",
    "\n",
    "#now this adds the data points to check our fit\n",
    "import scipy.stats as sp #we will need the standard error of the mean *sp.sem* from this module\n",
    "Y=df['response'] #the responses of the experiment\n",
    "X1=np.round(df['probe_target'],3) #the probe_target distances shown, round to 3 significant figures\n",
    "nx = np.unique(X1) #the different probe_target distances shown\n",
    "mn=[np.mean(Y[X1==x]) for x in nx] #mean of responses, for each different probe_target distance\n",
    "sem=[sp.sem(Y[X1==x]) for x in nx] #sem of responses, for each different probe_target distance\n",
    "plt.errorbar(nx,mn,yerr=sem, fmt=\"ro\");\n",
    "\n"
   ]
  },
  {
   "cell_type": "markdown",
   "metadata": {
    "colab_type": "text",
    "id": "X7J76VR3moL5"
   },
   "source": [
    "This graph shows that our logistic fit to the behavioral data is very good and has captured fairly well the behavior of our participants. From this analysis so far we conclude that..."
   ]
  },
  {
   "cell_type": "code",
   "execution_count": 10,
   "metadata": {},
   "outputs": [
    {
     "name": "stdout",
     "output_type": "stream",
     "text": [
      "Object `? ` not found.\n"
     ]
    }
   ],
   "source": [
    " ??? "
   ]
  },
  {
   "cell_type": "markdown",
   "metadata": {
    "colab_type": "text",
    "id": "C1sTzPqpk_4D"
   },
   "source": [
    "### Exercise 2: attraction to non-target\n",
    "\n",
    "Let us now include one further predictor, the distance between the target and the nearest non-target stimulus. This now goes in the direction of testing our hypothesis that non-target items kept in memory attract the memory of the target (as we tested in assignment 1).\n",
    "\n",
    "Run again the generalized linear model and check if this additional predictor contributes significantly to the model description. How do you interpret this?\n"
   ]
  },
  {
   "cell_type": "code",
   "execution_count": 11,
   "metadata": {
    "colab": {},
    "colab_type": "code",
    "id": "6mdq3DIak_4F",
    "outputId": "40eafff3-cb77-4154-c25d-d42e4f1779a9"
   },
   "outputs": [
    {
     "name": "stdout",
     "output_type": "stream",
     "text": [
      "                 Generalized Linear Model Regression Results                  \n",
      "==============================================================================\n",
      "Dep. Variable:               response   No. Observations:                 3530\n",
      "Model:                            GLM   Df Residuals:                     3527\n",
      "Model Family:                Binomial   Df Model:                            2\n",
      "Link Function:                  logit   Scale:                          1.0000\n",
      "Method:                          IRLS   Log-Likelihood:                -2158.7\n",
      "Date:                Fri, 14 Feb 2020   Deviance:                       4317.3\n",
      "Time:                        18:22:15   Pearson chi2:                 3.53e+03\n",
      "No. Iterations:                     4                                         \n",
      "Covariance Type:            nonrobust                                         \n",
      "================================================================================\n",
      "                   coef    std err          z      P>|z|      [0.025      0.975]\n",
      "--------------------------------------------------------------------------------\n",
      "Intercept       -0.1122      0.037     -3.057      0.002      -0.184      -0.040\n",
      "probe_target    -7.7903      0.345    -22.597      0.000      -8.466      -7.115\n",
      "dist_NT         -0.0134      0.029     -0.470      0.638      -0.069       0.043\n",
      "================================================================================\n",
      "p-value for the probe_target predictor: p=4.6719815393621094e-113\n",
      "p-value for the dist_NT predictor: p=0.6380455764020324\n"
     ]
    }
   ],
   "source": [
    "# we first define a new column in our dataframe, containing the distance between target and near non-target\n",
    "df['dist_NT'] = circdist_rad(df.target , df.near )\n",
    "\n",
    "# we now run the GLM with two predictors, probe_target and dist_NT\n",
    "mod = smf.glm(formula= 'response ~ probe_target + dist_NT' , data=df,family=sm.families.Binomial())\n",
    "res = mod.fit()\n",
    "\n",
    "print(res.summary())\n",
    "print(\"p-value for the probe_target predictor: p=\" + str(res.pvalues[1]))\n",
    "print(\"p-value for the dist_NT predictor: p=\" + str(res.pvalues[2]))"
   ]
  },
  {
   "cell_type": "markdown",
   "metadata": {
    "colab_type": "text",
    "id": "tyDmsGCvm2NR"
   },
   "source": [
    "Including the factor of interest \"distance from nearest non-target to target stimulus\" did not improve our model much (look at the change in log-likelihood in relation to the previous model with only *probe_target*, the increase is only 0.1, and with the increase in parameters AIC increased, check *res.aic*), and the p-value for the coefficient of this factor is >>0.05, indicating that we cannot reject the null-hypothesis that this coefficient is zero. This is disappointing because the point of our experiment was to identify a biasing effect of simultaneous memories in reports in spatial working memory, but this model does not include all the detail about our experiment so we should go ahead and add all the other factors that intervened in our design."
   ]
  },
  {
   "cell_type": "code",
   "execution_count": 12,
   "metadata": {},
   "outputs": [
    {
     "data": {
      "text/plain": [
       "4323.321093872359"
      ]
     },
     "execution_count": 12,
     "metadata": {},
     "output_type": "execute_result"
    }
   ],
   "source": [
    "res.aic"
   ]
  },
  {
   "cell_type": "markdown",
   "metadata": {
    "colab_type": "text",
    "id": "JQIMUTFwk_4O"
   },
   "source": [
    "### Exercise 3: include delay predictor\n",
    "\n",
    "We will now include one more predictor, the delay duration of each individual trial.  Run again the generalized linear model and check if this last factor contributes significantly to the model description. What is your interpretation?\n"
   ]
  },
  {
   "cell_type": "code",
   "execution_count": 13,
   "metadata": {
    "colab": {},
    "colab_type": "code",
    "id": "qgwwosnDk_4Q",
    "outputId": "55ae29db-2c29-4460-999f-c70f119645a5"
   },
   "outputs": [
    {
     "name": "stdout",
     "output_type": "stream",
     "text": [
      "                 Generalized Linear Model Regression Results                  \n",
      "==============================================================================\n",
      "Dep. Variable:               response   No. Observations:                 3530\n",
      "Model:                            GLM   Df Residuals:                     3526\n",
      "Model Family:                Binomial   Df Model:                            3\n",
      "Link Function:                  logit   Scale:                          1.0000\n",
      "Method:                          IRLS   Log-Likelihood:                -2158.6\n",
      "Date:                Fri, 14 Feb 2020   Deviance:                       4317.1\n",
      "Time:                        18:22:15   Pearson chi2:                 3.53e+03\n",
      "No. Iterations:                     4                                         \n",
      "Covariance Type:            nonrobust                                         \n",
      "================================================================================\n",
      "                   coef    std err          z      P>|z|      [0.025      0.975]\n",
      "--------------------------------------------------------------------------------\n",
      "Intercept       -0.1315      0.055     -2.378      0.017      -0.240      -0.023\n",
      "probe_target    -7.7907      0.345    -22.597      0.000      -8.466      -7.115\n",
      "dist_NT         -0.0135      0.029     -0.475      0.635      -0.069       0.042\n",
      "delay            0.0141      0.030      0.467      0.641      -0.045       0.074\n",
      "================================================================================\n",
      "p-value for the probe_target predictor: p=4.666337540426315e-113\n",
      "p-value for the dist_NT predictor: p=0.635001552848044\n",
      "p-value for the delay predictor: p=0.6407826903575988\n"
     ]
    }
   ],
   "source": [
    "# we include the predictor *delay* in the GLM\n",
    "mod = smf.glm(formula= 'response ~ probe_target + dist_NT + delay' , data=df,family=sm.families.Binomial())\n",
    "res = mod.fit()\n",
    "\n",
    "print(res.summary())\n",
    "print(\"p-value for the probe_target predictor: p=\" + str(res.pvalues[1]))\n",
    "print(\"p-value for the dist_NT predictor: p=\" + str(res.pvalues[2]))\n",
    "print(\"p-value for the delay predictor: p=\" + str(res.pvalues[3]))"
   ]
  },
  {
   "cell_type": "markdown",
   "metadata": {
    "colab_type": "text",
    "id": "jZkfZP8YF4uF"
   },
   "source": [
    "Adding also the factor \"delay\", which was built into our design, again only increased marginally the likelihood of our model and did not do this with a coefficient for *'delay'* significantly different from 0. However, if we think carefully about our intentions with this experiment, the crucial point is an interaction of interest that we have not yet included in the model."
   ]
  },
  {
   "cell_type": "markdown",
   "metadata": {
    "colab_type": "text",
    "id": "WZqoE-M7k_4Y"
   },
   "source": [
    "### Exercise 4: include the interaction!\n",
    "\n",
    "Now notice that the hypothesis of our experiment was that there would be an attraction of behavioral responses toward near non-target memories, but specifically when there was a delay between cue and probe (i.e. this was a memory effect, as opposed to a perceptual effect). None of our analyses so far addressed this “specifically”, “only”, “here but not there” question. We need an interaction! Which one? Run again the generalized linear model and check if this interaction factor contributes significantly to the model description. What is your interpretation now? "
   ]
  },
  {
   "cell_type": "code",
   "execution_count": 14,
   "metadata": {
    "colab": {},
    "colab_type": "code",
    "id": "xEC0Jt25k_4b",
    "outputId": "e462f7dd-0e6b-4377-b184-d68d95e01723"
   },
   "outputs": [
    {
     "name": "stdout",
     "output_type": "stream",
     "text": [
      "                 Generalized Linear Model Regression Results                  \n",
      "==============================================================================\n",
      "Dep. Variable:               response   No. Observations:                 3530\n",
      "Model:                            GLM   Df Residuals:                     3525\n",
      "Model Family:                Binomial   Df Model:                            4\n",
      "Link Function:                  logit   Scale:                          1.0000\n",
      "Method:                          IRLS   Log-Likelihood:                -2156.7\n",
      "Date:                Fri, 14 Feb 2020   Deviance:                       4313.3\n",
      "Time:                        18:22:15   Pearson chi2:                 3.53e+03\n",
      "No. Iterations:                     4                                         \n",
      "Covariance Type:            nonrobust                                         \n",
      "=================================================================================\n",
      "                    coef    std err          z      P>|z|      [0.025      0.975]\n",
      "---------------------------------------------------------------------------------\n",
      "Intercept        -0.1299      0.055     -2.348      0.019      -0.238      -0.021\n",
      "probe_target     -7.7793      0.345    -22.554      0.000      -8.455      -7.103\n",
      "dist_NT           0.0487      0.043      1.134      0.257      -0.036       0.133\n",
      "delay             0.0135      0.030      0.444      0.657      -0.046       0.073\n",
      "dist_NT:delay    -0.0455      0.023     -1.939      0.053      -0.092       0.001\n",
      "=================================================================================\n",
      "p-value for the probe_target factor: p=1.2143079021250874e-112\n",
      "p-value for the dist_NT factor: p=0.25681623150944743\n",
      "p-value for the delay factor: p=0.6573608915778867\n",
      "p-value for the interaction dist_NT*delay: p=0.052548303739637835\n"
     ]
    }
   ],
   "source": [
    "#include the interaction of interest\n",
    "mod = smf.glm(formula= 'response ~ probe_target + dist_NT + delay + dist_NT*delay' , data=df,family=sm.families.Binomial())\n",
    "res = mod.fit()\n",
    "\n",
    "\n",
    "print(res.summary())\n",
    "print(\"p-value for the probe_target factor: p=\" + str(res.pvalues[1]))\n",
    "print(\"p-value for the dist_NT factor: p=\" + str(res.pvalues[2]))\n",
    "print(\"p-value for the delay factor: p=\" + str(res.pvalues[3]))\n",
    "print(\"p-value for the interaction dist_NT*delay: p=\" + str(res.pvalues[4]))"
   ]
  },
  {
   "cell_type": "markdown",
   "metadata": {
    "colab_type": "text",
    "id": "bPSFJdnSGZn9"
   },
   "source": [
    "Now we obtain a marginally significant interaction! When we have interactions, main effects are not easily interpretable since we can have effects for one predictor that go in different directions when considering different levels of another predictor, and this could yield vanishing main effects."
   ]
  },
  {
   "cell_type": "markdown",
   "metadata": {
    "colab_type": "text",
    "id": "XobqWTQ3k_4o"
   },
   "source": [
    "Significant interactions can be analyzed by separating by one of the implicated predictors. Take separately trials with delay 0.1 (*perceptual trials*), and trials with delays 1 and 3 (*memory trials*), and now run the model without the interaction factor and without the delay factor (same model as in exercise 2) for each of these two sets of data. What do you see? \n",
    "\n",
    "Hint: Take special attention not only to the significance of the regressors, but also to the value of the fitted beta parameter (in particular, the sign). \n"
   ]
  },
  {
   "cell_type": "code",
   "execution_count": 15,
   "metadata": {
    "colab": {},
    "colab_type": "code",
    "id": "G2AgDAdnk_4q",
    "outputId": "4cf294a1-66a1-46a3-a4be-e34e34c6176f"
   },
   "outputs": [
    {
     "name": "stdout",
     "output_type": "stream",
     "text": [
      "Short Delay\n",
      "                 Generalized Linear Model Regression Results                  \n",
      "==============================================================================\n",
      "Dep. Variable:               response   No. Observations:                 1176\n",
      "Model:                            GLM   Df Residuals:                     1173\n",
      "Model Family:                Binomial   Df Model:                            2\n",
      "Link Function:                  logit   Scale:                          1.0000\n",
      "Method:                          IRLS   Log-Likelihood:                -721.87\n",
      "Date:                Fri, 14 Feb 2020   Deviance:                       1443.7\n",
      "Time:                        18:22:15   Pearson chi2:                 1.18e+03\n",
      "No. Iterations:                     4                                         \n",
      "Covariance Type:            nonrobust                                         \n",
      "================================================================================\n",
      "                   coef    std err          z      P>|z|      [0.025      0.975]\n",
      "--------------------------------------------------------------------------------\n",
      "Intercept       -0.1540      0.063     -2.426      0.015      -0.278      -0.030\n",
      "probe_target    -7.4958      0.595    -12.608      0.000      -8.661      -6.331\n",
      "dist_NT          0.0944      0.049      1.924      0.054      -0.002       0.191\n",
      "================================================================================\n",
      "parameter for the dist_NT predictor: beta = 0.0944068440187906\n",
      "p-value for the dist_NT predictor: p=0.05430390725280665\n",
      "\n",
      "\n",
      "\n",
      "Long Delays\n",
      "                 Generalized Linear Model Regression Results                  \n",
      "==============================================================================\n",
      "Dep. Variable:               response   No. Observations:                 2354\n",
      "Model:                            GLM   Df Residuals:                     2351\n",
      "Model Family:                Binomial   Df Model:                            2\n",
      "Link Function:                  logit   Scale:                          1.0000\n",
      "Method:                          IRLS   Log-Likelihood:                -1432.5\n",
      "Date:                Fri, 14 Feb 2020   Deviance:                       2865.0\n",
      "Time:                        18:22:15   Pearson chi2:                 2.36e+03\n",
      "No. Iterations:                     4                                         \n",
      "Covariance Type:            nonrobust                                         \n",
      "================================================================================\n",
      "                   coef    std err          z      P>|z|      [0.025      0.975]\n",
      "--------------------------------------------------------------------------------\n",
      "Intercept       -0.0888      0.045     -1.970      0.049      -0.177      -0.000\n",
      "probe_target    -7.9382      0.424    -18.725      0.000      -8.769      -7.107\n",
      "dist_NT         -0.0697      0.035     -1.974      0.048      -0.139      -0.000\n",
      "================================================================================\n",
      "parameter for the dist_NT predictor: beta = -0.06971721257172514\n",
      "p-value for the dist_NT predictor: p=0.048402741376778455\n"
     ]
    }
   ],
   "source": [
    "print('Short Delay')\n",
    "bool_percept = df['delay']==0.1 #we build a boolean to select trials with delay 0.1 \n",
    "\n",
    "# we run now the model for this subset of data, including only perceptual trials (and we remove the delay predictor)\n",
    "mod = smf.glm(formula='response ~ probe_target + dist_NT', data= df[bool_percept] ,family=sm.families.Binomial())\n",
    "res = mod.fit()\n",
    "\n",
    "\n",
    "print(res.summary())\n",
    "print(\"parameter for the dist_NT predictor: beta = \" + str(res.params[2]))\n",
    "print(\"p-value for the dist_NT predictor: p=\" + str(res.pvalues[2]))\n",
    "\n",
    "\n",
    "########\n",
    "\n",
    "print('')\n",
    "print('')\n",
    "print('')\n",
    "\n",
    "print('Long Delays')\n",
    "bool_mem = df['delay']!=0.1 #we build a boolean to select trials with delay 1 or 3 \n",
    "\n",
    "# we run now the model for this subset of data, including only memory trials (and we remove the delay predictor)\n",
    "mod = smf.glm(formula='response ~ probe_target + dist_NT', data= df[bool_mem] ,family=sm.families.Binomial())\n",
    "res = mod.fit()\n",
    "\n",
    "\n",
    "print(res.summary())\n",
    "print(\"parameter for the dist_NT predictor: beta = \" + str(res.params[2]))\n",
    "print(\"p-value for the dist_NT predictor: p=\" + str(res.pvalues[2]))\n",
    "\n"
   ]
  },
  {
   "cell_type": "markdown",
   "metadata": {
    "colab_type": "text",
    "id": "P6W-yjevG57x"
   },
   "source": [
    "We observe now that when we split the data based on delay duration in 2 groups, we obtain that the model with non-target-to-target distance (dist_NT) now shows a marginally significant main effect for the *dist_NT* factor. This was previously non-significant in the full model. If we look closely, we will see that the value of the coefficient for *dist_NT* is now positive for short delays (0.0944)  and negative for long delays (-0.0697). This is indicating that the bias induced by non-targets may be different for each of these 2 conditions: repulsive for short delays, and attractive for long delays. This is the interaction that we found significant and this would explain that when we run the full model the main factor *dist_NT* has a vanishing coefficient because attractions and repulsions form the different delay conditions cancel one another.\n",
    "\n",
    "We validate this intuition by plotting the data graphically in a way that will reveal our interpretation. This step is crucial to consolidate our interpretation."
   ]
  },
  {
   "cell_type": "code",
   "execution_count": 16,
   "metadata": {
    "scrolled": true
   },
   "outputs": [
    {
     "data": {
      "text/html": [
       "<div>\n",
       "<style scoped>\n",
       "    .dataframe tbody tr th:only-of-type {\n",
       "        vertical-align: middle;\n",
       "    }\n",
       "\n",
       "    .dataframe tbody tr th {\n",
       "        vertical-align: top;\n",
       "    }\n",
       "\n",
       "    .dataframe thead th {\n",
       "        text-align: right;\n",
       "    }\n",
       "</style>\n",
       "<table border=\"1\" class=\"dataframe\">\n",
       "  <thead>\n",
       "    <tr style=\"text-align: right;\">\n",
       "      <th></th>\n",
       "      <th>response</th>\n",
       "      <th>probe</th>\n",
       "      <th>target</th>\n",
       "      <th>near</th>\n",
       "      <th>subj</th>\n",
       "      <th>load</th>\n",
       "      <th>delay</th>\n",
       "      <th>probe_target</th>\n",
       "      <th>dist_NT</th>\n",
       "    </tr>\n",
       "  </thead>\n",
       "  <tbody>\n",
       "    <tr>\n",
       "      <td>0</td>\n",
       "      <td>0</td>\n",
       "      <td>0.31416</td>\n",
       "      <td>0.41888</td>\n",
       "      <td>0.17453</td>\n",
       "      <td>1.0</td>\n",
       "      <td>3.0</td>\n",
       "      <td>0.1</td>\n",
       "      <td>-0.10472</td>\n",
       "      <td>0.244350</td>\n",
       "    </tr>\n",
       "    <tr>\n",
       "      <td>1</td>\n",
       "      <td>0</td>\n",
       "      <td>5.42800</td>\n",
       "      <td>5.35820</td>\n",
       "      <td>5.16620</td>\n",
       "      <td>1.0</td>\n",
       "      <td>3.0</td>\n",
       "      <td>0.1</td>\n",
       "      <td>0.06980</td>\n",
       "      <td>0.192000</td>\n",
       "    </tr>\n",
       "    <tr>\n",
       "      <td>2</td>\n",
       "      <td>1</td>\n",
       "      <td>2.56560</td>\n",
       "      <td>2.63540</td>\n",
       "      <td>5.04400</td>\n",
       "      <td>1.0</td>\n",
       "      <td>3.0</td>\n",
       "      <td>0.1</td>\n",
       "      <td>-0.06980</td>\n",
       "      <td>-2.408600</td>\n",
       "    </tr>\n",
       "    <tr>\n",
       "      <td>3</td>\n",
       "      <td>0</td>\n",
       "      <td>5.82940</td>\n",
       "      <td>5.68980</td>\n",
       "      <td>0.55851</td>\n",
       "      <td>1.0</td>\n",
       "      <td>4.0</td>\n",
       "      <td>0.1</td>\n",
       "      <td>0.13960</td>\n",
       "      <td>-1.151895</td>\n",
       "    </tr>\n",
       "    <tr>\n",
       "      <td>4</td>\n",
       "      <td>0</td>\n",
       "      <td>1.34390</td>\n",
       "      <td>1.27410</td>\n",
       "      <td>1.04720</td>\n",
       "      <td>1.0</td>\n",
       "      <td>3.0</td>\n",
       "      <td>0.1</td>\n",
       "      <td>0.06980</td>\n",
       "      <td>0.226900</td>\n",
       "    </tr>\n",
       "    <tr>\n",
       "      <td>5</td>\n",
       "      <td>1</td>\n",
       "      <td>1.37880</td>\n",
       "      <td>1.48350</td>\n",
       "      <td>1.22170</td>\n",
       "      <td>1.0</td>\n",
       "      <td>3.0</td>\n",
       "      <td>0.1</td>\n",
       "      <td>-0.10470</td>\n",
       "      <td>0.261800</td>\n",
       "    </tr>\n",
       "    <tr>\n",
       "      <td>6</td>\n",
       "      <td>0</td>\n",
       "      <td>3.82230</td>\n",
       "      <td>3.71760</td>\n",
       "      <td>3.94440</td>\n",
       "      <td>1.0</td>\n",
       "      <td>4.0</td>\n",
       "      <td>0.1</td>\n",
       "      <td>0.10470</td>\n",
       "      <td>-0.226800</td>\n",
       "    </tr>\n",
       "    <tr>\n",
       "      <td>7</td>\n",
       "      <td>0</td>\n",
       "      <td>4.50290</td>\n",
       "      <td>4.36330</td>\n",
       "      <td>5.25340</td>\n",
       "      <td>1.0</td>\n",
       "      <td>4.0</td>\n",
       "      <td>0.1</td>\n",
       "      <td>0.13960</td>\n",
       "      <td>-0.890100</td>\n",
       "    </tr>\n",
       "    <tr>\n",
       "      <td>8</td>\n",
       "      <td>1</td>\n",
       "      <td>1.88500</td>\n",
       "      <td>1.78020</td>\n",
       "      <td>1.98970</td>\n",
       "      <td>1.0</td>\n",
       "      <td>4.0</td>\n",
       "      <td>0.1</td>\n",
       "      <td>0.10480</td>\n",
       "      <td>-0.209500</td>\n",
       "    </tr>\n",
       "    <tr>\n",
       "      <td>9</td>\n",
       "      <td>0</td>\n",
       "      <td>4.15390</td>\n",
       "      <td>4.04920</td>\n",
       "      <td>2.32130</td>\n",
       "      <td>1.0</td>\n",
       "      <td>3.0</td>\n",
       "      <td>0.1</td>\n",
       "      <td>0.10470</td>\n",
       "      <td>1.727900</td>\n",
       "    </tr>\n",
       "    <tr>\n",
       "      <td>10</td>\n",
       "      <td>1</td>\n",
       "      <td>5.65490</td>\n",
       "      <td>5.79450</td>\n",
       "      <td>5.51520</td>\n",
       "      <td>1.0</td>\n",
       "      <td>4.0</td>\n",
       "      <td>0.1</td>\n",
       "      <td>-0.13960</td>\n",
       "      <td>0.279300</td>\n",
       "    </tr>\n",
       "    <tr>\n",
       "      <td>11</td>\n",
       "      <td>0</td>\n",
       "      <td>4.13640</td>\n",
       "      <td>3.99680</td>\n",
       "      <td>4.29350</td>\n",
       "      <td>1.0</td>\n",
       "      <td>3.0</td>\n",
       "      <td>0.1</td>\n",
       "      <td>0.13960</td>\n",
       "      <td>-0.296700</td>\n",
       "    </tr>\n",
       "    <tr>\n",
       "      <td>12</td>\n",
       "      <td>0</td>\n",
       "      <td>0.22689</td>\n",
       "      <td>0.36652</td>\n",
       "      <td>4.64260</td>\n",
       "      <td>1.0</td>\n",
       "      <td>3.0</td>\n",
       "      <td>0.1</td>\n",
       "      <td>-0.13963</td>\n",
       "      <td>2.007105</td>\n",
       "    </tr>\n",
       "    <tr>\n",
       "      <td>13</td>\n",
       "      <td>0</td>\n",
       "      <td>5.18360</td>\n",
       "      <td>5.28830</td>\n",
       "      <td>1.62320</td>\n",
       "      <td>1.0</td>\n",
       "      <td>4.0</td>\n",
       "      <td>0.1</td>\n",
       "      <td>-0.10470</td>\n",
       "      <td>-2.618085</td>\n",
       "    </tr>\n",
       "    <tr>\n",
       "      <td>14</td>\n",
       "      <td>0</td>\n",
       "      <td>5.72470</td>\n",
       "      <td>5.86430</td>\n",
       "      <td>5.55010</td>\n",
       "      <td>1.0</td>\n",
       "      <td>4.0</td>\n",
       "      <td>0.1</td>\n",
       "      <td>-0.13960</td>\n",
       "      <td>0.314200</td>\n",
       "    </tr>\n",
       "    <tr>\n",
       "      <td>15</td>\n",
       "      <td>1</td>\n",
       "      <td>1.60570</td>\n",
       "      <td>1.67550</td>\n",
       "      <td>1.95480</td>\n",
       "      <td>1.0</td>\n",
       "      <td>4.0</td>\n",
       "      <td>0.1</td>\n",
       "      <td>-0.06980</td>\n",
       "      <td>-0.279300</td>\n",
       "    </tr>\n",
       "  </tbody>\n",
       "</table>\n",
       "</div>"
      ],
      "text/plain": [
       "    response    probe   target     near  subj  load  delay  probe_target  \\\n",
       "0          0  0.31416  0.41888  0.17453   1.0   3.0    0.1      -0.10472   \n",
       "1          0  5.42800  5.35820  5.16620   1.0   3.0    0.1       0.06980   \n",
       "2          1  2.56560  2.63540  5.04400   1.0   3.0    0.1      -0.06980   \n",
       "3          0  5.82940  5.68980  0.55851   1.0   4.0    0.1       0.13960   \n",
       "4          0  1.34390  1.27410  1.04720   1.0   3.0    0.1       0.06980   \n",
       "5          1  1.37880  1.48350  1.22170   1.0   3.0    0.1      -0.10470   \n",
       "6          0  3.82230  3.71760  3.94440   1.0   4.0    0.1       0.10470   \n",
       "7          0  4.50290  4.36330  5.25340   1.0   4.0    0.1       0.13960   \n",
       "8          1  1.88500  1.78020  1.98970   1.0   4.0    0.1       0.10480   \n",
       "9          0  4.15390  4.04920  2.32130   1.0   3.0    0.1       0.10470   \n",
       "10         1  5.65490  5.79450  5.51520   1.0   4.0    0.1      -0.13960   \n",
       "11         0  4.13640  3.99680  4.29350   1.0   3.0    0.1       0.13960   \n",
       "12         0  0.22689  0.36652  4.64260   1.0   3.0    0.1      -0.13963   \n",
       "13         0  5.18360  5.28830  1.62320   1.0   4.0    0.1      -0.10470   \n",
       "14         0  5.72470  5.86430  5.55010   1.0   4.0    0.1      -0.13960   \n",
       "15         1  1.60570  1.67550  1.95480   1.0   4.0    0.1      -0.06980   \n",
       "\n",
       "     dist_NT  \n",
       "0   0.244350  \n",
       "1   0.192000  \n",
       "2  -2.408600  \n",
       "3  -1.151895  \n",
       "4   0.226900  \n",
       "5   0.261800  \n",
       "6  -0.226800  \n",
       "7  -0.890100  \n",
       "8  -0.209500  \n",
       "9   1.727900  \n",
       "10  0.279300  \n",
       "11 -0.296700  \n",
       "12  2.007105  \n",
       "13 -2.618085  \n",
       "14  0.314200  \n",
       "15 -0.279300  "
      ]
     },
     "execution_count": 16,
     "metadata": {},
     "output_type": "execute_result"
    }
   ],
   "source": [
    "df.head(16)"
   ]
  },
  {
   "cell_type": "code",
   "execution_count": 17,
   "metadata": {},
   "outputs": [
    {
     "data": {
      "image/png": "[encoded data removed]",
      "text/plain": [
       "<Figure size 432x288 with 2 Axes>"
      ]
     },
     "metadata": {
      "needs_background": "light"
     },
     "output_type": "display_data"
    }
   ],
   "source": [
    "plt.subplot(1,2,1)\n",
    "# we fit and plot first short delays for CCW trials\n",
    "bool_sel = np.logical_and(df['delay']<0.5,df['dist_NT']>0)\n",
    "mod = smf.glm(formula='response ~ probe_target', data=df[bool_sel],family=sm.families.Binomial())\n",
    "res = mod.fit()\n",
    "\n",
    "myx = np.linspace(-0.4,0.4,100)\n",
    "yfit=res.predict(exog=dict(probe_target=myx)) #yfit = res.predict(exog={'probe_target':myx})\n",
    "plt.plot(myx,yfit,'-', label=\"CCW\")\n",
    "\n",
    "#now this adds the data points to check our fit\n",
    "Y=df['response'][bool_sel]\n",
    "X1=np.round(df['probe_target'][bool_sel],3)\n",
    "nx = np.unique(X1)\n",
    "mn=[np.mean(Y[X1==x]) for x in nx]\n",
    "sem=[sp.sem(Y[X1==x]) for x in nx]\n",
    "plt.errorbar(nx,mn,yerr=sem, fmt=\"o\")\n",
    "\n",
    "# we fit and plot then short delays for CW trials (SAME AS ABOVE BUT FOR CW TRIALS)\n",
    "bool_nsel = np.logical_and(df['delay']<0.5,df['dist_NT']<0)\n",
    "mod = smf.glm(formula='response ~ probe_target', data= df[bool_nsel] ,family=sm.families.Binomial())\n",
    "res = mod.fit()\n",
    "\n",
    "myx = np.linspace(-0.4,0.4,100)\n",
    "yfit=res.predict(exog={'probe_target':myx}) #yfit = res.predict(exog={'probe_target':myx})\n",
    "plt.plot(myx,yfit,'-', label=\"CW\")\n",
    "\n",
    "Y=df['response'][bool_nsel]\n",
    "X1=np.round(df['probe_target'][bool_nsel],3)\n",
    "nx = np.unique(X1)\n",
    "mn=[np.mean(Y[X1==x]) for x in nx]\n",
    "sem=[sp.sem(Y[X1==x]) for x in nx]\n",
    "plt.errorbar(nx,mn,yerr=sem, fmt=\"o\")\n",
    "\n",
    "plt.legend()\n",
    "plt.title('short delays')\n",
    "\n",
    "###################### new subplot\n",
    "plt.subplot(1,2,2)\n",
    "\n",
    "# we fit and plot long delays for CCW trials (SAME AS ABOVE BUT FOR MEM, CCW TRIALS)\n",
    "bool_lccw = np.logical_and(df['delay']!=0.1,df['dist_NT']>0)\n",
    "mod = smf.glm(formula='response ~ probe_target', data= df[bool_lccw] ,family=sm.families.Binomial())\n",
    "res = mod.fit()\n",
    "\n",
    "myx = np.linspace(-0.4,0.4,100)\n",
    "yfit=res.predict(exog={'probe_target':myx}) #yfit = res.predict(exog={'probe_target':myx})\n",
    "plt.plot(myx,yfit,'-', label=\"CCW\")\n",
    "\n",
    "Y=df['response'][bool_lccw]\n",
    "X1=np.round(df['probe_target'][bool_lccw],3)\n",
    "nx = np.unique(X1)\n",
    "mn=[np.mean(Y[X1==x]) for x in nx]\n",
    "sem=[sp.sem(Y[X1==x]) for x in nx]\n",
    "plt.errorbar(nx,mn,yerr=sem, fmt=\"o\")\n",
    "\n",
    "# we fit and plot then long delays for CW trials (SAME AS ABOVE BUT FOR MEM, CW TRIALS)\n",
    "bool_lcw = np.logical_and(df['delay']!=0.1,df['dist_NT']<0)\n",
    "mod = smf.glm(formula='response ~ probe_target', data= df[bool_lcw] ,family=sm.families.Binomial())\n",
    "res = mod.fit()\n",
    "\n",
    "myx = np.linspace(-0.4,0.4,100)\n",
    "yfit=res.predict(exog={'probe_target':myx}) #yfit = res.predict(exog={'probe_target':myx})\n",
    "plt.plot(myx,yfit,'-', label=\"CW\")\n",
    "\n",
    "Y=df['response'][bool_lcw]\n",
    "X1=np.round(df['probe_target'][bool_lcw],3)\n",
    "nx = np.unique(X1)\n",
    "mn=[np.mean(Y[X1==x]) for x in nx]\n",
    "sem=[sp.sem(Y[X1==x]) for x in nx]\n",
    "plt.errorbar(nx,mn,yerr=sem, fmt=\"o\")\n",
    "\n",
    "plt.legend()\n",
    "plt.title('long delays');"
   ]
  },
  {
   "cell_type": "markdown",
   "metadata": {
    "colab_type": "text",
    "id": "O_km4lAzk_49"
   },
   "source": [
    "### Exercise 5: participants\n",
    "\n",
    "Remember from last session that we ran a regression analysis on the data collapsing together data from all subjects and we then went on to run a regression analysis incorporating subjects as factors. We now want to incorporate the subject factor into our analysis, but notice that now this factor is categorical, not parametric as all other factors previously. In a linear model, categorical predictors need special treatment. In the formulas for GLM we use *C(factor)* to specify that *factor* is categorical. \n",
    "\n",
    "Run the generalized linear model with *glm*. Does the fit improve? "
   ]
  },
  {
   "cell_type": "code",
   "execution_count": 19,
   "metadata": {},
   "outputs": [
    {
     "name": "stdout",
     "output_type": "stream",
     "text": [
      "                 Generalized Linear Model Regression Results                  \n",
      "==============================================================================\n",
      "Dep. Variable:               response   No. Observations:                 3530\n",
      "Model:                            GLM   Df Residuals:                     3518\n",
      "Model Family:                Binomial   Df Model:                           11\n",
      "Link Function:                  logit   Scale:                          1.0000\n",
      "Method:                          IRLS   Log-Likelihood:                -2152.7\n",
      "Date:                Fri, 14 Feb 2020   Deviance:                       4305.4\n",
      "Time:                        18:23:27   Pearson chi2:                 3.53e+03\n",
      "No. Iterations:                     4                                         \n",
      "Covariance Type:            nonrobust                                         \n",
      "==================================================================================\n",
      "                     coef    std err          z      P>|z|      [0.025      0.975]\n",
      "----------------------------------------------------------------------------------\n",
      "Intercept         -0.2860      0.112     -2.561      0.010      -0.505      -0.067\n",
      "C(subj)[T.2.0]     0.0675      0.147      0.461      0.645      -0.220       0.355\n",
      "C(subj)[T.3.0]     0.3011      0.147      2.052      0.040       0.014       0.589\n",
      "C(subj)[T.4.0]     0.1504      0.146      1.027      0.304      -0.137       0.437\n",
      "C(subj)[T.5.0]     0.1665      0.147      1.134      0.257      -0.121       0.454\n",
      "C(subj)[T.6.0]     0.3253      0.147      2.215      0.027       0.037       0.613\n",
      "C(subj)[T.7.0]     0.1023      0.147      0.697      0.486      -0.185       0.390\n",
      "C(subj)[T.8.0]     0.1398      0.147      0.950      0.342      -0.149       0.428\n",
      "probe_target      -7.8000      0.346    -22.570      0.000      -8.477      -7.123\n",
      "dist_NT            0.0490      0.043      1.137      0.255      -0.035       0.133\n",
      "delay              0.0132      0.030      0.436      0.663      -0.046       0.073\n",
      "dist_NT:delay     -0.0456      0.024     -1.935      0.053      -0.092       0.001\n",
      "==================================================================================\n",
      "p-value for the probe_target factor: p=8.547365459263616e-113\n",
      "p-value for the dist_NT factor: p=0.2554126587232858\n",
      "p-value for the delay factor: p=0.6629369533615546\n",
      "p-value for the interaction dist_NT*delay: p=0.05296283499531374\n"
     ]
    }
   ],
   "source": [
    "##Exercise 5\n",
    "mod = smf.glm(formula= 'response ~ probe_target + dist_NT + delay + dist_NT*delay + C(subj)' , data=df,family=sm.families.Binomial())\n",
    "res = mod.fit()\n",
    "\n",
    "print(res.summary())\n",
    "print(\"p-value for the probe_target factor: p=\" + str(res.pvalues[8]))\n",
    "print(\"p-value for the dist_NT factor: p=\" + str(res.pvalues[9]))\n",
    "print(\"p-value for the delay factor: p=\" + str(res.pvalues[10]))\n",
    "print(\"p-value for the interaction dist_NT*delay: p=\" + str(res.pvalues[11]))"
   ]
  },
  {
   "cell_type": "markdown",
   "metadata": {},
   "source": [
    "Here, we treated participants as fixed effects of our design, and this is good to make inferences about our sample population. However, to make more general inferences on the larger population that our sample represents, we should treat the subject factor as a random effect. This would then correspond to a Generalized Linear Mixed Model (GLMM) (mixed reflects the fact that the model includes both fixed and random effects). GLMMs are advanced methods that are still not very well implemented in Python and people usually use R for this type of models. You can learn about this on your own, it is not part of the assignment, but you can play below to try to run such a model on this data (this is what was done in the orginal article by Almeida et al 2015)."
   ]
  },
  {
   "cell_type": "code",
   "execution_count": null,
   "metadata": {
    "colab": {},
    "colab_type": "code",
    "id": "6PULQVwIk_4-"
   },
   "outputs": [],
   "source": []
  }
 ],
 "metadata": {
  "colab": {
   "collapsed_sections": [],
   "name": "assignment5.ipynb",
   "provenance": [],
   "version": "0.3.2"
  },
  "kernelspec": {
   "display_name": "Python 3",
   "language": "python",
   "name": "python3"
  },
  "language_info": {
   "codemirror_mode": {
    "name": "ipython",
    "version": 3
   },
   "file_extension": ".py",
   "mimetype": "text/x-python",
   "name": "python",
   "nbconvert_exporter": "python",
   "pygments_lexer": "ipython3",
   "version": "3.7.4"
  }
 },
 "nbformat": 4,
 "nbformat_minor": 1
}
