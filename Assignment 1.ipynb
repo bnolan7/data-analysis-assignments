{
 "cells": [
  {
   "cell_type": "markdown",
   "metadata": {
    "colab_type": "text",
    "id": "pxFPNerzM0Bh"
   },
   "source": [
    "## Assignment 1\n",
    "\n",
    "##### Descriptive statistics and linear regression\n",
    "\n",
    "\n",
    "We will first look at the psychophysics dataset. \n",
    "\n",
    "Typically, working memory is studied by asking subjects to remember a stimulus for a specific period (eg. for 1s or 3s) that was previously briefly shown. This dataset consists of two experiments conducted in a behavioural study of working memory precision.  Here, we are going to analyse only the data coming from Experiment 2. In this study, there was a total of 9 subjects. Each subject was shown a set of 3 colorful dots on each trial. After stimulus removal, subject had to fixate on black square in the center of the monitor for 3 seconds. After this delay period (3 seconds), the fixation square changed color to a color of one of the previously shown stimuli. At this point, the subject had to report the precise position of that stimuli. In each trial, one stimulus was the target and the other two the non-targets. For the purpose of the article, the stimuli had a certain spatial configuration. In particular one of the two non-targets was very close to the target, either located clockwise or counter-clockwise from the target. The point of the study was to test the hypothesis that behavioral reports to target stimuli of participants would be attractively biased by non-target memory items. The purpose of this exercise is to test this hypothesis with the tools of statistical inference."
   ]
  },
  {
   "cell_type": "code",
   "execution_count": 1,
   "metadata": {
    "colab": {},
    "colab_type": "code",
    "id": "a-LweZWJM0B8"
   },
   "outputs": [],
   "source": [
    "import numpy as np\n",
    "import matplotlib.pyplot as plt\n",
    "from cmath import phase, exp \n",
    "\n",
    "def circdist_rad(angles1,angles2): #define the name and set the arguments between parentheses\n",
    "    output = np.array( list (map(lambda a1,a2: phase(exp(1j*a1)/exp(1j*a2)), angles1,angles2)) ) ## mathematical operation to get the circular distance\n",
    "    return output #return the circular distance in radians "
   ]
  },
  {
   "cell_type": "markdown",
   "metadata": {
    "colab_type": "text",
    "id": "RaTLV_8bM0C4"
   },
   "source": [
    "The angle on the circle of both behavioral response and stimulus locations is given in radian angles in the 4 columns of all_subjs{n}. The 1st column corresponds to behavioral report, the 2nd column to the target stimulus, and the 3rd and 4th columns to non-target stimuli, for each corresponding trial (in rows of all_subjs{n}). In fact, the 3rd column corresponds to the non-target stimulus closest to the target stimulus, so that is the one that we are hypothesizing that will have an influence on participants’ response. Load the data and make a unique matrix with the data of all the subjects.\n"
   ]
  },
  {
   "cell_type": "code",
   "execution_count": 2,
   "metadata": {
    "colab": {},
    "colab_type": "code",
    "id": "nk0R7Gt-M0DG"
   },
   "outputs": [],
   "source": [
    "data = np.loadtxt(\"C:\\\\Users\\\\bnola\\\\Documents\\\\Data Analysis\\\\all_subjects.csv\") #use the function loadtxt from numpy to load the contents of the file\n",
    "##\n",
    "## indexes \n",
    "# 0 responses = angle of response\n",
    "# 1 targets = angle of response\n",
    "# 2 near = angle of response (non-target = NT)\n",
    "# 3 far = angle of response\n",
    "# 4 subject"
   ]
  },
  {
   "cell_type": "code",
   "execution_count": 3,
   "metadata": {
    "colab": {},
    "colab_type": "code",
    "id": "mauytpZFM0Da",
    "outputId": "10d38e3c-f93a-4d9c-806c-62a8d6692cc9"
   },
   "outputs": [
    {
     "data": {
      "text/plain": [
       "(857, 5)"
      ]
     },
     "execution_count": 3,
     "metadata": {},
     "output_type": "execute_result"
    }
   ],
   "source": [
    "np.shape(data)"
   ]
  },
  {
   "cell_type": "markdown",
   "metadata": {},
   "source": [
    "You will need to add 3 extra columns:\n",
    "\n",
    "1. error column (T - R)\n",
    "2. distance closest distractor (T -NT)\n",
    "3. cw-ccw trial\n",
    "\n",
    "\n",
    "\n",
    "Hints:\n",
    "np.column_stack, \n",
    "circdist_rad"
   ]
  },
  {
   "cell_type": "code",
   "execution_count": 4,
   "metadata": {
    "colab": {},
    "colab_type": "code",
    "id": "BalrNc8IM0Dh"
   },
   "outputs": [],
   "source": [
    "behavioral_errors=circdist_rad(data[:,1], data[:,0]) #getting errors for target and response\n",
    "target_nearest= circdist_rad(data[:,2], data[:,1]) #getting nearest target based on target and near column\n",
    "cw_trials=(target_nearest<0)*1 #convert True and False to 1 and 0\n",
    "data = np.column_stack((data, behavioral_errors, target_nearest, cw_trials))"
   ]
  },
  {
   "cell_type": "code",
   "execution_count": 5,
   "metadata": {},
   "outputs": [],
   "source": [
    "### indexes \n",
    "# 0 responses = angle of response\n",
    "# 1 targets = angle of response\n",
    "# 2 near = angle of response (non-target = NT)\n",
    "# 3 far = angle of response\n",
    "# 4 subject\n",
    "# 5 error column\n",
    "# 6 distance closest distractor (target_nearest)\n",
    "# 7 cw-ccw trial"
   ]
  },
  {
   "cell_type": "markdown",
   "metadata": {
    "colab_type": "text",
    "id": "pb8L3c-7M0Dq"
   },
   "source": [
    "### Visualization\n",
    "Plot the visual input in one specific trial by plotting the three cues as red squares and the behavioral response as a blue circle. As a reference, include the fixation dot as a black square. To be specific, let’s take trial 4 of the 3rd subject. Remember that given an angle α in radians, the x and y coordinates on the circle are given by cos(α) and sin(α), respectively.\n"
   ]
  },
  {
   "cell_type": "code",
   "execution_count": 6,
   "metadata": {
    "colab": {},
    "colab_type": "code",
    "id": "KHCssFmyM0Ds",
    "outputId": "38a360e9-53a1-48b6-a009-4105224dc623"
   },
   "outputs": [
    {
     "data": {
      "image/png": "[encoded data removed]",
      "text/plain": [
       "<Figure size 432x288 with 1 Axes>"
      ]
     },
     "metadata": {
      "needs_background": "light"
     },
     "output_type": "display_data"
    }
   ],
   "source": [
    "#### Visualize a trial\n",
    "### subject 3, trial 4\n",
    "bool_s3 = data[:,4]==2 # 3rd subject\n",
    "ds=data[bool_s3]\n",
    "ex_trial=3 # 4th trial\n",
    "\n",
    "plt.plot(0, 0, 'k+')\n",
    "plt.plot( np.cos(ds[3,0]), np.sin(ds[3,0]), 'bo', label='response')\n",
    "plt.plot( np.cos(ds[ex_trial,1]), np.sin(ds[ex_trial,1]), 'ro', label='target')\n",
    "plt.plot( np.cos(ds[ex_trial,2]), np.sin(ds[ex_trial,2]), 'go', label='near')\n",
    "plt.plot( np.cos(ds[ex_trial,3]), np.sin(ds[ex_trial,3]), 'yo', label='far')\n",
    "plt.legend(loc=1)\n",
    "plt.xlim(-1.2, 1.2)\n",
    "plt.ylim(-1.2, 1.2)\n",
    "plt.show()\n",
    "\n"
   ]
  },
  {
   "cell_type": "markdown",
   "metadata": {},
   "source": [
    "### Characterizing data: descriptive statistics"
   ]
  },
  {
   "cell_type": "markdown",
   "metadata": {},
   "source": [
    "Using measures of centrality and/or dispersion, design a method to confirm that the second column is the target stimulus, and the 3rd and 4th columns are non-target stimuli. Work with other students, there are several possible solutions. Write your code in the next cell, then use the \"Insert\" option in the upper menu and select \"Insert Cell Below\" to add one more cell in this notebook in order to enter you interpretation of the results. Make sure you mark this cell as \"Markdown\" in the menu above before you \"ctrl+ENTER\" it."
   ]
  },
  {
   "cell_type": "code",
   "execution_count": 7,
   "metadata": {},
   "outputs": [
    {
     "name": "stdout",
     "output_type": "stream",
     "text": [
      "8.247182743102598e-35\n",
      "0.022610614795975762\n",
      "0.09429849566642695\n",
      "5.680122969020586\n"
     ]
    }
   ],
   "source": [
    "for clm in range(4): print(np.var(circdist_rad(data[:,clm], data[:,0])))"
   ]
  },
  {
   "cell_type": "markdown",
   "metadata": {
    "colab_type": "text",
    "id": "jvt6rW_8M0D0"
   },
   "source": [
    "An even better approach is to use visualization tools. Use the knowledge you have about the stimulus configuration and the *plt.hist* function to confirm that 1st column is the target. \n",
    "\n",
    "---\n"
   ]
  },
  {
   "cell_type": "code",
   "execution_count": 8,
   "metadata": {
    "colab": {},
    "colab_type": "code",
    "id": "vpy2OxLhM0D3",
    "outputId": "b4f81b64-f57f-4d66-d180-e73f9b8493b6",
    "scrolled": false
   },
   "outputs": [
    {
     "data": {
      "image/png": "[encoded data removed]",
      "text/plain": [
       "<Figure size 432x288 with 1 Axes>"
      ]
     },
     "metadata": {
      "needs_background": "light"
     },
     "output_type": "display_data"
    },
    {
     "data": {
      "image/png": "[encoded data removed]",
      "text/plain": [
       "<Figure size 432x288 with 1 Axes>"
      ]
     },
     "metadata": {
      "needs_background": "light"
     },
     "output_type": "display_data"
    },
    {
     "data": {
      "image/png": "[encoded data removed]",
      "text/plain": [
       "<Figure size 432x288 with 1 Axes>"
      ]
     },
     "metadata": {
      "needs_background": "light"
     },
     "output_type": "display_data"
    },
    {
     "name": "stdout",
     "output_type": "stream",
     "text": [
      "Column 1 is the target\n"
     ]
    }
   ],
   "source": [
    "hist1=circdist_rad(data[:,1] , data[:,0] )\n",
    "mean_hist1=np.mean(hist1)\n",
    "\n",
    "plt.figure()\n",
    "plt.title('column1')\n",
    "plt.hist(hist1, bins=50)\n",
    "plt.axvline(mean_hist1, color='r')\n",
    "plt.show()\n",
    "\n",
    "\n",
    "hist2=circdist_rad(data[:,2], data[:,0])\n",
    "mean_hist2=np.mean(hist2)\n",
    "\n",
    "plt.figure()\n",
    "plt.title('column2')\n",
    "plt.hist(hist2, bins=50)\n",
    "plt.axvline(mean_hist2, color='r')\n",
    "plt.show()\n",
    "\n",
    "hist3=circdist_rad(data[:,3], data[:,0])\n",
    "mean_hist3=np.mean(hist3)\n",
    "\n",
    "plt.figure()\n",
    "plt.title('column3')\n",
    "plt.hist(hist3, bins=50)\n",
    "plt.axvline(mean_hist3, color='r')\n",
    "plt.show()\n",
    "\n",
    "\n",
    "\n",
    "print('Column 1 is the target')"
   ]
  },
  {
   "cell_type": "markdown",
   "metadata": {},
   "source": [
    "### Statistical hypothesis testing: parametric methods"
   ]
  },
  {
   "cell_type": "markdown",
   "metadata": {
    "colab_type": "text",
    "id": "ZsFBC41sM0D_"
   },
   "source": [
    "We want to test if there is any effect at the population level of the nearest non-target (NT) item (column 3) on the bias of the behavioral response. The simplest way to test this is by using a t-test to compare the behavioral errors (response (R) - target (T)) for trials in which the NT was clockwise to the T stimulus (CW trials, NT-T<0) with the behavioral errors for trials in which the NT was counterclockwise to the T stimulus (CCW trials, NT-T>0), lumping together data from all subjects. In order to do this, let's first separate in different histograms whether the nearest non-target item (3rd column) was clockwise or counter-clockwise from the target (2nd column). "
   ]
  },
  {
   "cell_type": "code",
   "execution_count": 9,
   "metadata": {},
   "outputs": [
    {
     "data": {
      "image/png": "[encoded data removed]",
      "text/plain": [
       "<Figure size 432x288 with 1 Axes>"
      ]
     },
     "metadata": {
      "needs_background": "light"
     },
     "output_type": "display_data"
    }
   ],
   "source": [
    "plt.figure(1)\n",
    "bool_cw = data[:,7]==0\n",
    "plt.hist(data[bool_cw,5], alpha=0.5, bins=50)\n",
    "\n",
    "bool_ccw = data[:,7]==1\n",
    "plt.hist(data[bool_ccw,5], alpha=0.5, bins=50)\n",
    "plt.show()"
   ]
  },
  {
   "cell_type": "markdown",
   "metadata": {},
   "source": [
    "Now, do the same thing for each subject. "
   ]
  },
  {
   "cell_type": "code",
   "execution_count": null,
   "metadata": {},
   "outputs": [],
   "source": []
  },
  {
   "cell_type": "code",
   "execution_count": 10,
   "metadata": {
    "colab": {},
    "colab_type": "code",
    "id": "5L5erckpM0ED",
    "outputId": "091eaa5d-ff05-4d10-acaa-f62e3a393340"
   },
   "outputs": [
    {
     "data": {
      "image/png": "[encoded data removed]",
      "text/plain": [
       "<Figure size 432x288 with 9 Axes>"
      ]
     },
     "metadata": {
      "needs_background": "light"
     },
     "output_type": "display_data"
    }
   ],
   "source": [
    "plt.figure()\n",
    "for subject in range(9):\n",
    "    plt.subplot(3,3,subject+1)\n",
    "    bool_s =  data[:,4]==subject #boolean marking trials for subject *subject*\n",
    "    ds=data[bool_s]\n",
    "    bool_cw = ds[:,7]==1 #boolean marking cw trials for subject *subject*\n",
    "    plt.hist(ds[bool_cw,5], alpha=0.5)\n",
    "    bool_ccw = ds[:,7]==0 #boolean marking ccw trials for subject *subject*\n",
    "    plt.hist(ds[bool_ccw,5], alpha=0.5)\n",
    "    plt.title(str(subject))\n",
    "#\n",
    "plt.tight_layout()\n",
    "plt.show()"
   ]
  },
  {
   "cell_type": "markdown",
   "metadata": {},
   "source": [
    "Test if there is a difference between cw and ccw at both population and subject level. We will use the t-test as implemented in the scipy library (you can Google *ttest_ind*)\n",
    "\n",
    "Is there an attractive or repulsive effect? How do you know?"
   ]
  },
  {
   "cell_type": "code",
   "execution_count": 11,
   "metadata": {},
   "outputs": [
    {
     "name": "stdout",
     "output_type": "stream",
     "text": [
      "\n",
      "\n",
      "Population has a sig. attractive effect\n",
      "\n",
      " t = 3.8429952155198346 \n",
      " p = 0.00013054065806483413\n",
      "\n",
      "\n",
      "Subject 0 has a sig. attractive effect \n",
      " t = 5.8044267681355075 \n",
      " p = 1.3655649256224256e-07\n",
      "\n",
      "Subject 1 has a sig. attractive effect \n",
      " t = 4.023068584921271 \n",
      " p = 0.00022828766643899086\n",
      "\n",
      "Subject 2 has a sig. attractive effect \n",
      " t = 3.623447317129997 \n",
      " p = 0.00047839726546049124\n",
      "\n",
      "Subject 3 has a sig. attractive effect \n",
      " t = 2.875367720578732 \n",
      " p = 0.005427342231541321\n",
      "\n",
      "\n",
      "\n",
      "Subject 6 has a sig. attractive effect \n",
      " t = 2.080382132375966 \n",
      " p = 0.03883189052764111\n",
      "\n",
      "\n",
      "\n"
     ]
    }
   ],
   "source": [
    "from scipy.stats import ttest_ind\n",
    "\n",
    "print('')\n",
    "print('')\n",
    "\n",
    "bool_cw = data[:, 7]==1\n",
    "bool_ccw = data[:, 7]==0\n",
    "t, p_val =ttest_ind(data[bool_cw,5],data[bool_ccw,5])\n",
    "if p_val <0.05:\n",
    "    if t>0:\n",
    "        print('Population has a sig. attractive effect')\n",
    "    if t<0:\n",
    "        print('Population has a sig. repulsive effect')\n",
    "\n",
    "print('\\n','t = ' +str(t),'\\n','p = ' +str(p_val))\n",
    "print('')\n",
    "\n",
    "for subject in range(9):\n",
    "    bool_s = data[:,4]==subject\n",
    "    ds=data[bool_s]\n",
    "    bool_cw = ds[:,7]==1\n",
    "    bool_ccw = ds[:,7]==0\n",
    "    t, p_val =ttest_ind(ds[bool_cw,5], ds[bool_ccw,5])\n",
    "    print('')\n",
    "    if p_val <0.05:\n",
    "        if t>0:\n",
    "            print('Subject ' +str(subject) + ' has a sig. attractive effect','\\n','t = ' +str(t),'\\n', 'p = ' +str(p_val))\n",
    "        if t<0:\n",
    "            print('Subject ' +str(subject) + ' has a sig. repulsive effect')\n",
    "print('')"
   ]
  },
  {
   "cell_type": "markdown",
   "metadata": {},
   "source": [
    "### Statistical hypothesis testing: non-parametric resampling methods"
   ]
  },
  {
   "cell_type": "markdown",
   "metadata": {
    "colab_type": "text",
    "id": "SPk3UqWHM0EI"
   },
   "source": [
    "We can instead avoid the Gaussian hypothesis by using permutation tests. Here, for each subject you would establish how many trials you had in the CW and CCW classes, and randomly assign individual trial errors to one of the two classes by keeping the total number in each class fixed. This resampled distribution of trials in two classes then represents one valid representative sample consistent with your null hypothesis (which is your null hypothesis, by the way?). You compute the distance between medians in your resampled classes, and save that statistic. Then you resample again and repeat the process 1,000 times. Finally you compare the actual statistic from your real CW-CCW class separation to the distribution of statistics in samples that are consistent with your null hypothesis and from there derive a p-value for the probability of your null hypothesis being true. \n"
   ]
  },
  {
   "cell_type": "markdown",
   "metadata": {},
   "source": [
    "First, write in the next cell, using a \"Markdown\" cell, your null hypothesis in **boldface**"
   ]
  },
  {
   "cell_type": "markdown",
   "metadata": {},
   "source": [
    "**Null Hypothesis: No difference will be observed between CW-CCW** "
   ]
  },
  {
   "cell_type": "markdown",
   "metadata": {},
   "source": [
    "Now use the permutation test for the 5th subject.\n",
    "Do you get similar results with the ttest?"
   ]
  },
  {
   "cell_type": "code",
   "execution_count": 12,
   "metadata": {},
   "outputs": [
    {
     "name": "stdout",
     "output_type": "stream",
     "text": [
      "Subject 5, p_value permutat_test: 0.2816\n",
      "Subject 5, p_value t-test: 0.23649529862047675\n"
     ]
    }
   ],
   "source": [
    "#first we select the data for the 5th subject, subject 4\n",
    "bool_s = data[:,4]==4\n",
    "ds=data[bool_s]\n",
    "\n",
    "#we form booleans for CW and CCW trials\n",
    "bool_cw =  ds[:,7]==1\n",
    "bool_ccw = ds[:,7]==0\n",
    "\n",
    "#we define our statistic of interest as the difference in medians of the two lists of errors, for CW and CCW trials.\n",
    "statistic=np.median(ds[bool_cw,5])-np.median(ds[bool_ccw,5]) \n",
    "\n",
    "#how many trials do we have of each kind?\n",
    "nCW =  sum(bool_cw)\n",
    "nCCW =  sum(bool_ccw)\n",
    "nt=nCW+nCCW\n",
    "\n",
    "#we now generate the resampled data for the permutation test\n",
    "n_perm=10000\n",
    "stat_perm=[]\n",
    "for _ in range(n_perm): #we now run our permutations\n",
    "    indexes=np.random.permutation(nt) #we permute the nt indexes randomly\n",
    "    inCW=indexes[:nCW] #we take the first nCW indexes as belonging to the permuted \"CW\" set \n",
    "    inCCW=indexes[nCW:] #we take the last nCCW indexes as belonging to the permuted \"CCW\" set \n",
    "    stat_perm.append(np.median(ds[inCW,5])- np.median(ds[inCCW,5]) ) #we compute the statistic from our permuted classes, and save it in the vector stat_perm\n",
    "\n",
    "stat_perm=np.array(stat_perm)\n",
    "\n",
    "#here is the p-value of our permutation test. The number of times that our statistic exceeded the statistic of the \n",
    "#shuffles divided by the number of shuffles. We take this as the probability that we had obtained a statistic at\n",
    "#least as extreme as our true data if our null hypothesis was true.\n",
    "p_value=np.mean( abs(stat_perm)> abs(statistic)) \n",
    "print('Subject 5, p_value permutat_test: ' +str(p_value))\n",
    "\n",
    "#t-test\n",
    "t, p_val =ttest_ind(ds[bool_cw,5], ds[bool_ccw,5])\n",
    "print('Subject 5, p_value t-test: ' +str(p_val))"
   ]
  },
  {
   "cell_type": "markdown",
   "metadata": {},
   "source": [
    "Now to understand the result of the permutation test, plot a histogram of your resampled statistics in *stat_perm* and mark the statistic that you obtain in your true data on the x-axis. "
   ]
  },
  {
   "cell_type": "code",
   "execution_count": 13,
   "metadata": {},
   "outputs": [
    {
     "name": "stdout",
     "output_type": "stream",
     "text": [
      "-0.055105587193656574\n"
     ]
    }
   ],
   "source": [
    "print(statistic)"
   ]
  },
  {
   "cell_type": "code",
   "execution_count": 14,
   "metadata": {},
   "outputs": [
    {
     "data": {
      "text/plain": [
       "[<matplotlib.lines.Line2D at 0x1e3363c78c8>]"
      ]
     },
     "execution_count": 14,
     "metadata": {},
     "output_type": "execute_result"
    },
    {
     "data": {
      "image/png": "[encoded data removed]",
      "text/plain": [
       "<Figure size 432x288 with 1 Axes>"
      ]
     },
     "metadata": {
      "needs_background": "light"
     },
     "output_type": "display_data"
    }
   ],
   "source": [
    "plt.figure()\n",
    "plt.hist( stat_perm , bins=50)\n",
    "plt.plot([ statistic, statistic], [0,200], 'r')"
   ]
  },
  {
   "cell_type": "markdown",
   "metadata": {},
   "source": [
    "Now interpret what the p-value means. Write your answer as a Markdown cell below (Insert it with \"Insert\"> \"Insert Cell Below\" in the top menu) "
   ]
  },
  {
   "cell_type": "markdown",
   "metadata": {},
   "source": [
    "To test if your interpretation is correct, now run again the permutation test for the first subject and see if it all makes sense"
   ]
  },
  {
   "cell_type": "code",
   "execution_count": 15,
   "metadata": {},
   "outputs": [
    {
     "name": "stdout",
     "output_type": "stream",
     "text": [
      "Subject 0, p_value permutat_test: 0.0041\n",
      "Subject 0, p_value t-test: 0.03883189052764111\n"
     ]
    }
   ],
   "source": [
    "bool_s = data[:,4]==6\n",
    "ds=data[bool_s]\n",
    "\n",
    "bool_cw =  ds[:,7]==1\n",
    "bool_ccw = ds[:,7]==0\n",
    "\n",
    "statistic=np.median(ds[bool_cw,5])-np.median(ds[bool_ccw,5]) \n",
    "\n",
    "nCW =  sum(bool_cw)\n",
    "nCCW =  sum(bool_ccw)\n",
    "nt=nCW+nCCW\n",
    "\n",
    "n_perm=10000\n",
    "stat_perm=[]\n",
    "for _ in range(n_perm): #we now run our permutations\n",
    "    indexes=np.random.permutation(nt) #we permute the nt indexes randomly\n",
    "    inCW=indexes[:nCW] #we take the first nCW indexes as belonging to the permuted \"CW\" set \n",
    "    inCCW=indexes[nCW:] #we take the last nCCW indexes as belonging to the permuted \"CCW\" set \n",
    "    stat_perm.append(np.median(ds[inCW,5])- np.median(ds[inCCW,5]) ) #we compute the statistic from our permuted classes, and save it in the vector stat_perm\n",
    "\n",
    "stat_perm=np.array(stat_perm)\n",
    "\n",
    "p_value=np.mean( abs(stat_perm)> abs(statistic)) \n",
    "print('Subject 0, p_value permutat_test: ' +str(p_value))\n",
    "\n",
    "t, p_val =ttest_ind(ds[bool_cw,5], ds[bool_ccw,5])\n",
    "print('Subject 0, p_value t-test: ' +str(p_val))"
   ]
  },
  {
   "cell_type": "markdown",
   "metadata": {},
   "source": [
    "Now do this together for all subjects in a for loop: compute permutation test, t-test, and plot histograms for all subjects iterating what we did before for one single subject"
   ]
  },
  {
   "cell_type": "code",
   "execution_count": 16,
   "metadata": {
    "colab": {},
    "colab_type": "code",
    "id": "60LhwJUQM0EK",
    "outputId": "c7269666-921d-4a8b-b38c-c54096baf351",
    "scrolled": false
   },
   "outputs": [
    {
     "name": "stdout",
     "output_type": "stream",
     "text": [
      "Subject 0 p_value permutat_test: 0.0, p_value t-test: 1.3655649256224256e-07\n",
      "Subject 1 p_value permutat_test: 0.001, p_value t-test: 0.00022828766643899086\n",
      "Subject 2 p_value permutat_test: 0.004, p_value t-test: 0.00047839726546049124\n",
      "Subject 3 p_value permutat_test: 0.024, p_value t-test: 0.005427342231541321\n",
      "Subject 4 p_value permutat_test: 0.303, p_value t-test: 0.23649529862047675\n",
      "Subject 5 p_value permutat_test: 0.119, p_value t-test: 0.12427312231154128\n",
      "Subject 6 p_value permutat_test: 0.001, p_value t-test: 0.03883189052764111\n",
      "Subject 7 p_value permutat_test: 0.071, p_value t-test: 0.18815597714173116\n",
      "Subject 8 p_value permutat_test: 0.51, p_value t-test: 0.830748277772429\n"
     ]
    },
    {
     "data": {
      "image/png": "[encoded data removed]",
      "text/plain": [
       "<Figure size 432x288 with 9 Axes>"
      ]
     },
     "metadata": {
      "needs_background": "light"
     },
     "output_type": "display_data"
    }
   ],
   "source": [
    "plt.figure()\n",
    "for subj in range(9):\n",
    "    #first we select the data for subject subj\n",
    "    bool_s = data[:,4]==subj\n",
    "    ds=data[bool_s]\n",
    "    \n",
    "    #we form booleans for CW and CCW trials\n",
    "    bool_cw = ds[:,7]==1\n",
    "    bool_ccw = ds[:,7]==0 \n",
    "\n",
    "    #we define our statistic of interest as the difference in medians of the two lists of errors, for CW and CCW trials.\n",
    "    statistic=np.median(ds[bool_cw,5])-np.median(ds[bool_ccw,5])  \n",
    "    \n",
    "    #how many trials do we have of each kind?\n",
    "    nCW =  sum(bool_cw)\n",
    "    nCCW =  sum(bool_ccw)\n",
    "    nt=nCW+nCCW\n",
    "\n",
    "    #we now generate the resampled data for the permutation test\n",
    "    n_perm=1000\n",
    "    stat_perm=[]\n",
    "    for _ in range(n_perm): #we now run our permutations\n",
    "        indexes=np.random.permutation(nt)  #we permute the nt indexes\n",
    "        inCW=indexes[:nCW]  #we take the first nCW indexes as belonging to the permuted \"CW\" set \n",
    "        inCCW=indexes[nCW:] #we take the last nCCW indexes as belonging to the permuted \"CCW\" set \n",
    "        stat_perm.append(np.median(ds[inCW,5]  )- np.median(ds[inCCW,5]  ) ) #we compute the statistic from our permuted classes, and save it in the vector stat_perm\n",
    "\n",
    "    stat_perm=np.array(stat_perm)\n",
    "    #print(np.median(stat_perm))\n",
    "\n",
    "    #here is the p-value of our permutation test. The number of times that our statistic exceeded the statistic of the \n",
    "    #shuffles divided by the number of shuffles. We take this as the probability that we had obtained a statistic at\n",
    "    #least as extreme as our true data if our null hypothesis was true.\n",
    "    p_value=np.mean( abs(stat_perm)> abs(statistic)) \n",
    "\n",
    "    #t-test\n",
    "    t, p_val =ttest_ind(ds[bool_cw,5], ds[bool_ccw,5])\n",
    "    \n",
    "    print('Subject ' +str(subj ) +' p_value permutat_test: ' +str(p_value) +', p_value t-test: ' +str(p_val))\n",
    "    \n",
    "    plt.subplot(3,3,subj+1)\n",
    "    plt.hist(stat_perm)\n",
    "    plt.plot([statistic, statistic], [0,100], 'r')\n",
    "    plt.title(str(subj))\n",
    "\n",
    "#    \n",
    "plt.tight_layout()\n",
    "plt.show()\n"
   ]
  },
  {
   "cell_type": "markdown",
   "metadata": {},
   "source": [
    "### Linear regression"
   ]
  },
  {
   "cell_type": "markdown",
   "metadata": {
    "colab_type": "text",
    "id": "V2vy8UPOM0EV"
   },
   "source": [
    "The analysis so far was simple and good. However, one thing it did not include was all the detail about the location of non-targets. The design of our experiment was not really binary, with just one degree of freedom for CW or CCW non-targets. Instead, they were located at variable distances both in CW and CCW trials. See this by plotting the histogram of X, the distances between non-target and target items in each trial. "
   ]
  },
  {
   "cell_type": "code",
   "execution_count": 17,
   "metadata": {
    "colab": {},
    "colab_type": "code",
    "id": "gD3Xhl_NM0EW",
    "outputId": "5943e860-7570-407f-a5ce-fd4d5eadd0b6",
    "scrolled": true
   },
   "outputs": [
    {
     "data": {
      "image/png": "[encoded data removed]",
      "text/plain": [
       "<Figure size 432x288 with 1 Axes>"
      ]
     },
     "metadata": {
      "needs_background": "light"
     },
     "output_type": "display_data"
    }
   ],
   "source": [
    "plt.hist( ds[:,6]*-1 , bins=25);"
   ]
  },
  {
   "cell_type": "markdown",
   "metadata": {
    "colab_type": "text",
    "id": "gn8u9WUMM0Ec"
   },
   "source": [
    "This variability in X could be a factor explaining the variability in response error Y.\n",
    "The appropriate analysis to check this dependency is a “simple linear regression”. A regression tests for the contribution of the variability in an independent variable (here the inter-item distance X, which is independently set by the experimenter) to generating the variability in dependent variable (here the behavioral error Y).\n",
    "\n",
    "To run the regression, you will learn a very intuitive way to structure matrices unig the pandas (pd) library: Dataframes.\n",
    "\n",
    "pd.Dataframes and np.arrays are basically the same. However, pd.Datafarmes are more modern and they work better to run more sofistcated analysis. "
   ]
  },
  {
   "cell_type": "code",
   "execution_count": null,
   "metadata": {},
   "outputs": [],
   "source": []
  },
  {
   "cell_type": "code",
   "execution_count": 18,
   "metadata": {},
   "outputs": [
    {
     "data": {
      "text/html": [
       "<div>\n",
       "<style scoped>\n",
       "    .dataframe tbody tr th:only-of-type {\n",
       "        vertical-align: middle;\n",
       "    }\n",
       "\n",
       "    .dataframe tbody tr th {\n",
       "        vertical-align: top;\n",
       "    }\n",
       "\n",
       "    .dataframe thead th {\n",
       "        text-align: right;\n",
       "    }\n",
       "</style>\n",
       "<table border=\"1\" class=\"dataframe\">\n",
       "  <thead>\n",
       "    <tr style=\"text-align: right;\">\n",
       "      <th></th>\n",
       "      <th>response</th>\n",
       "      <th>target</th>\n",
       "      <th>near</th>\n",
       "      <th>far</th>\n",
       "      <th>subj</th>\n",
       "      <th>error</th>\n",
       "      <th>dist_closest</th>\n",
       "      <th>cw_ccw</th>\n",
       "    </tr>\n",
       "  </thead>\n",
       "  <tbody>\n",
       "    <tr>\n",
       "      <td>0</td>\n",
       "      <td>2.717854</td>\n",
       "      <td>3.041933</td>\n",
       "      <td>2.727768</td>\n",
       "      <td>-1.600649</td>\n",
       "      <td>0.0</td>\n",
       "      <td>0.324079</td>\n",
       "      <td>-0.314166</td>\n",
       "      <td>1.0</td>\n",
       "    </tr>\n",
       "    <tr>\n",
       "      <td>1</td>\n",
       "      <td>2.520928</td>\n",
       "      <td>3.041933</td>\n",
       "      <td>2.727768</td>\n",
       "      <td>-1.600649</td>\n",
       "      <td>0.0</td>\n",
       "      <td>0.521005</td>\n",
       "      <td>-0.314166</td>\n",
       "      <td>1.0</td>\n",
       "    </tr>\n",
       "    <tr>\n",
       "      <td>2</td>\n",
       "      <td>2.683595</td>\n",
       "      <td>3.041933</td>\n",
       "      <td>2.727768</td>\n",
       "      <td>-1.600649</td>\n",
       "      <td>0.0</td>\n",
       "      <td>0.358338</td>\n",
       "      <td>-0.314166</td>\n",
       "      <td>1.0</td>\n",
       "    </tr>\n",
       "    <tr>\n",
       "      <td>3</td>\n",
       "      <td>2.712245</td>\n",
       "      <td>3.041933</td>\n",
       "      <td>2.727768</td>\n",
       "      <td>-1.600649</td>\n",
       "      <td>0.0</td>\n",
       "      <td>0.329688</td>\n",
       "      <td>-0.314166</td>\n",
       "      <td>1.0</td>\n",
       "    </tr>\n",
       "    <tr>\n",
       "      <td>4</td>\n",
       "      <td>2.565060</td>\n",
       "      <td>3.041933</td>\n",
       "      <td>2.727768</td>\n",
       "      <td>-1.600649</td>\n",
       "      <td>0.0</td>\n",
       "      <td>0.476873</td>\n",
       "      <td>-0.314166</td>\n",
       "      <td>1.0</td>\n",
       "    </tr>\n",
       "    <tr>\n",
       "      <td>5</td>\n",
       "      <td>2.571635</td>\n",
       "      <td>3.041933</td>\n",
       "      <td>2.727768</td>\n",
       "      <td>-1.600649</td>\n",
       "      <td>0.0</td>\n",
       "      <td>0.470298</td>\n",
       "      <td>-0.314166</td>\n",
       "      <td>1.0</td>\n",
       "    </tr>\n",
       "    <tr>\n",
       "      <td>6</td>\n",
       "      <td>2.637082</td>\n",
       "      <td>3.041933</td>\n",
       "      <td>2.727768</td>\n",
       "      <td>-1.600649</td>\n",
       "      <td>0.0</td>\n",
       "      <td>0.404851</td>\n",
       "      <td>-0.314166</td>\n",
       "      <td>1.0</td>\n",
       "    </tr>\n",
       "    <tr>\n",
       "      <td>7</td>\n",
       "      <td>0.566227</td>\n",
       "      <td>0.549933</td>\n",
       "      <td>0.253226</td>\n",
       "      <td>-2.923274</td>\n",
       "      <td>0.0</td>\n",
       "      <td>-0.016294</td>\n",
       "      <td>-0.296708</td>\n",
       "      <td>1.0</td>\n",
       "    </tr>\n",
       "    <tr>\n",
       "      <td>8</td>\n",
       "      <td>0.527693</td>\n",
       "      <td>0.549933</td>\n",
       "      <td>0.253226</td>\n",
       "      <td>-2.923274</td>\n",
       "      <td>0.0</td>\n",
       "      <td>0.022240</td>\n",
       "      <td>-0.296708</td>\n",
       "      <td>1.0</td>\n",
       "    </tr>\n",
       "    <tr>\n",
       "      <td>9</td>\n",
       "      <td>0.589037</td>\n",
       "      <td>0.549933</td>\n",
       "      <td>0.253226</td>\n",
       "      <td>-2.923274</td>\n",
       "      <td>0.0</td>\n",
       "      <td>-0.039103</td>\n",
       "      <td>-0.296708</td>\n",
       "      <td>1.0</td>\n",
       "    </tr>\n",
       "    <tr>\n",
       "      <td>10</td>\n",
       "      <td>0.619474</td>\n",
       "      <td>0.549933</td>\n",
       "      <td>0.253226</td>\n",
       "      <td>-2.923274</td>\n",
       "      <td>0.0</td>\n",
       "      <td>-0.069540</td>\n",
       "      <td>-0.296708</td>\n",
       "      <td>1.0</td>\n",
       "    </tr>\n",
       "    <tr>\n",
       "      <td>11</td>\n",
       "      <td>0.549196</td>\n",
       "      <td>0.549933</td>\n",
       "      <td>0.253226</td>\n",
       "      <td>-2.923274</td>\n",
       "      <td>0.0</td>\n",
       "      <td>0.000737</td>\n",
       "      <td>-0.296708</td>\n",
       "      <td>1.0</td>\n",
       "    </tr>\n",
       "    <tr>\n",
       "      <td>12</td>\n",
       "      <td>0.717072</td>\n",
       "      <td>0.549933</td>\n",
       "      <td>0.253226</td>\n",
       "      <td>-2.923274</td>\n",
       "      <td>0.0</td>\n",
       "      <td>-0.167139</td>\n",
       "      <td>-0.296708</td>\n",
       "      <td>1.0</td>\n",
       "    </tr>\n",
       "    <tr>\n",
       "      <td>13</td>\n",
       "      <td>0.670623</td>\n",
       "      <td>0.549933</td>\n",
       "      <td>0.253226</td>\n",
       "      <td>-2.923274</td>\n",
       "      <td>0.0</td>\n",
       "      <td>-0.120690</td>\n",
       "      <td>-0.296708</td>\n",
       "      <td>1.0</td>\n",
       "    </tr>\n",
       "    <tr>\n",
       "      <td>14</td>\n",
       "      <td>-0.313427</td>\n",
       "      <td>-0.151033</td>\n",
       "      <td>-0.430300</td>\n",
       "      <td>2.763652</td>\n",
       "      <td>0.0</td>\n",
       "      <td>0.162394</td>\n",
       "      <td>-0.279267</td>\n",
       "      <td>1.0</td>\n",
       "    </tr>\n",
       "    <tr>\n",
       "      <td>15</td>\n",
       "      <td>-0.401499</td>\n",
       "      <td>-0.151033</td>\n",
       "      <td>-0.430300</td>\n",
       "      <td>2.763652</td>\n",
       "      <td>0.0</td>\n",
       "      <td>0.250466</td>\n",
       "      <td>-0.279267</td>\n",
       "      <td>1.0</td>\n",
       "    </tr>\n",
       "    <tr>\n",
       "      <td>16</td>\n",
       "      <td>-0.261077</td>\n",
       "      <td>-0.151033</td>\n",
       "      <td>-0.430300</td>\n",
       "      <td>2.763652</td>\n",
       "      <td>0.0</td>\n",
       "      <td>0.110044</td>\n",
       "      <td>-0.279267</td>\n",
       "      <td>1.0</td>\n",
       "    </tr>\n",
       "    <tr>\n",
       "      <td>17</td>\n",
       "      <td>-0.168352</td>\n",
       "      <td>-0.151033</td>\n",
       "      <td>-0.430300</td>\n",
       "      <td>2.763652</td>\n",
       "      <td>0.0</td>\n",
       "      <td>0.017319</td>\n",
       "      <td>-0.279267</td>\n",
       "      <td>1.0</td>\n",
       "    </tr>\n",
       "    <tr>\n",
       "      <td>18</td>\n",
       "      <td>-0.563617</td>\n",
       "      <td>-0.151033</td>\n",
       "      <td>-0.430300</td>\n",
       "      <td>2.763652</td>\n",
       "      <td>0.0</td>\n",
       "      <td>0.412584</td>\n",
       "      <td>-0.279267</td>\n",
       "      <td>1.0</td>\n",
       "    </tr>\n",
       "    <tr>\n",
       "      <td>19</td>\n",
       "      <td>-0.301886</td>\n",
       "      <td>-0.151033</td>\n",
       "      <td>-0.430300</td>\n",
       "      <td>2.763652</td>\n",
       "      <td>0.0</td>\n",
       "      <td>0.150852</td>\n",
       "      <td>-0.279267</td>\n",
       "      <td>1.0</td>\n",
       "    </tr>\n",
       "    <tr>\n",
       "      <td>20</td>\n",
       "      <td>-0.254870</td>\n",
       "      <td>-0.151033</td>\n",
       "      <td>-0.430300</td>\n",
       "      <td>2.763652</td>\n",
       "      <td>0.0</td>\n",
       "      <td>0.103837</td>\n",
       "      <td>-0.279267</td>\n",
       "      <td>1.0</td>\n",
       "    </tr>\n",
       "    <tr>\n",
       "      <td>21</td>\n",
       "      <td>0.187551</td>\n",
       "      <td>0.437341</td>\n",
       "      <td>0.158087</td>\n",
       "      <td>-2.302827</td>\n",
       "      <td>0.0</td>\n",
       "      <td>0.249791</td>\n",
       "      <td>-0.279254</td>\n",
       "      <td>1.0</td>\n",
       "    </tr>\n",
       "    <tr>\n",
       "      <td>22</td>\n",
       "      <td>0.244979</td>\n",
       "      <td>0.437341</td>\n",
       "      <td>0.158087</td>\n",
       "      <td>-2.302827</td>\n",
       "      <td>0.0</td>\n",
       "      <td>0.192362</td>\n",
       "      <td>-0.279254</td>\n",
       "      <td>1.0</td>\n",
       "    </tr>\n",
       "    <tr>\n",
       "      <td>23</td>\n",
       "      <td>0.257324</td>\n",
       "      <td>0.437341</td>\n",
       "      <td>0.158087</td>\n",
       "      <td>-2.302827</td>\n",
       "      <td>0.0</td>\n",
       "      <td>0.180017</td>\n",
       "      <td>-0.279254</td>\n",
       "      <td>1.0</td>\n",
       "    </tr>\n",
       "    <tr>\n",
       "      <td>24</td>\n",
       "      <td>0.270367</td>\n",
       "      <td>0.437341</td>\n",
       "      <td>0.158087</td>\n",
       "      <td>-2.302827</td>\n",
       "      <td>0.0</td>\n",
       "      <td>0.166974</td>\n",
       "      <td>-0.279254</td>\n",
       "      <td>1.0</td>\n",
       "    </tr>\n",
       "    <tr>\n",
       "      <td>25</td>\n",
       "      <td>0.330973</td>\n",
       "      <td>0.437341</td>\n",
       "      <td>0.158087</td>\n",
       "      <td>-2.302827</td>\n",
       "      <td>0.0</td>\n",
       "      <td>0.106368</td>\n",
       "      <td>-0.279254</td>\n",
       "      <td>1.0</td>\n",
       "    </tr>\n",
       "    <tr>\n",
       "      <td>26</td>\n",
       "      <td>-2.634939</td>\n",
       "      <td>-2.815050</td>\n",
       "      <td>-2.483445</td>\n",
       "      <td>-0.039985</td>\n",
       "      <td>0.0</td>\n",
       "      <td>-0.180112</td>\n",
       "      <td>0.331605</td>\n",
       "      <td>0.0</td>\n",
       "    </tr>\n",
       "    <tr>\n",
       "      <td>27</td>\n",
       "      <td>-2.616797</td>\n",
       "      <td>-2.815050</td>\n",
       "      <td>-2.483445</td>\n",
       "      <td>-0.039985</td>\n",
       "      <td>0.0</td>\n",
       "      <td>-0.198254</td>\n",
       "      <td>0.331605</td>\n",
       "      <td>0.0</td>\n",
       "    </tr>\n",
       "    <tr>\n",
       "      <td>28</td>\n",
       "      <td>-2.477546</td>\n",
       "      <td>-2.815050</td>\n",
       "      <td>-2.483445</td>\n",
       "      <td>-0.039985</td>\n",
       "      <td>0.0</td>\n",
       "      <td>-0.337504</td>\n",
       "      <td>0.331605</td>\n",
       "      <td>0.0</td>\n",
       "    </tr>\n",
       "    <tr>\n",
       "      <td>29</td>\n",
       "      <td>-2.502958</td>\n",
       "      <td>-2.815050</td>\n",
       "      <td>-2.483445</td>\n",
       "      <td>-0.039985</td>\n",
       "      <td>0.0</td>\n",
       "      <td>-0.312093</td>\n",
       "      <td>0.331605</td>\n",
       "      <td>0.0</td>\n",
       "    </tr>\n",
       "  </tbody>\n",
       "</table>\n",
       "</div>"
      ],
      "text/plain": [
       "    response    target      near       far  subj     error  dist_closest  \\\n",
       "0   2.717854  3.041933  2.727768 -1.600649   0.0  0.324079     -0.314166   \n",
       "1   2.520928  3.041933  2.727768 -1.600649   0.0  0.521005     -0.314166   \n",
       "2   2.683595  3.041933  2.727768 -1.600649   0.0  0.358338     -0.314166   \n",
       "3   2.712245  3.041933  2.727768 -1.600649   0.0  0.329688     -0.314166   \n",
       "4   2.565060  3.041933  2.727768 -1.600649   0.0  0.476873     -0.314166   \n",
       "5   2.571635  3.041933  2.727768 -1.600649   0.0  0.470298     -0.314166   \n",
       "6   2.637082  3.041933  2.727768 -1.600649   0.0  0.404851     -0.314166   \n",
       "7   0.566227  0.549933  0.253226 -2.923274   0.0 -0.016294     -0.296708   \n",
       "8   0.527693  0.549933  0.253226 -2.923274   0.0  0.022240     -0.296708   \n",
       "9   0.589037  0.549933  0.253226 -2.923274   0.0 -0.039103     -0.296708   \n",
       "10  0.619474  0.549933  0.253226 -2.923274   0.0 -0.069540     -0.296708   \n",
       "11  0.549196  0.549933  0.253226 -2.923274   0.0  0.000737     -0.296708   \n",
       "12  0.717072  0.549933  0.253226 -2.923274   0.0 -0.167139     -0.296708   \n",
       "13  0.670623  0.549933  0.253226 -2.923274   0.0 -0.120690     -0.296708   \n",
       "14 -0.313427 -0.151033 -0.430300  2.763652   0.0  0.162394     -0.279267   \n",
       "15 -0.401499 -0.151033 -0.430300  2.763652   0.0  0.250466     -0.279267   \n",
       "16 -0.261077 -0.151033 -0.430300  2.763652   0.0  0.110044     -0.279267   \n",
       "17 -0.168352 -0.151033 -0.430300  2.763652   0.0  0.017319     -0.279267   \n",
       "18 -0.563617 -0.151033 -0.430300  2.763652   0.0  0.412584     -0.279267   \n",
       "19 -0.301886 -0.151033 -0.430300  2.763652   0.0  0.150852     -0.279267   \n",
       "20 -0.254870 -0.151033 -0.430300  2.763652   0.0  0.103837     -0.279267   \n",
       "21  0.187551  0.437341  0.158087 -2.302827   0.0  0.249791     -0.279254   \n",
       "22  0.244979  0.437341  0.158087 -2.302827   0.0  0.192362     -0.279254   \n",
       "23  0.257324  0.437341  0.158087 -2.302827   0.0  0.180017     -0.279254   \n",
       "24  0.270367  0.437341  0.158087 -2.302827   0.0  0.166974     -0.279254   \n",
       "25  0.330973  0.437341  0.158087 -2.302827   0.0  0.106368     -0.279254   \n",
       "26 -2.634939 -2.815050 -2.483445 -0.039985   0.0 -0.180112      0.331605   \n",
       "27 -2.616797 -2.815050 -2.483445 -0.039985   0.0 -0.198254      0.331605   \n",
       "28 -2.477546 -2.815050 -2.483445 -0.039985   0.0 -0.337504      0.331605   \n",
       "29 -2.502958 -2.815050 -2.483445 -0.039985   0.0 -0.312093      0.331605   \n",
       "\n",
       "    cw_ccw  \n",
       "0      1.0  \n",
       "1      1.0  \n",
       "2      1.0  \n",
       "3      1.0  \n",
       "4      1.0  \n",
       "5      1.0  \n",
       "6      1.0  \n",
       "7      1.0  \n",
       "8      1.0  \n",
       "9      1.0  \n",
       "10     1.0  \n",
       "11     1.0  \n",
       "12     1.0  \n",
       "13     1.0  \n",
       "14     1.0  \n",
       "15     1.0  \n",
       "16     1.0  \n",
       "17     1.0  \n",
       "18     1.0  \n",
       "19     1.0  \n",
       "20     1.0  \n",
       "21     1.0  \n",
       "22     1.0  \n",
       "23     1.0  \n",
       "24     1.0  \n",
       "25     1.0  \n",
       "26     0.0  \n",
       "27     0.0  \n",
       "28     0.0  \n",
       "29     0.0  "
      ]
     },
     "execution_count": 18,
     "metadata": {},
     "output_type": "execute_result"
    }
   ],
   "source": [
    "import pandas as pd\n",
    "df = pd.DataFrame(data)\n",
    "df.columns=['response', 'target', 'near', 'far', 'subj', 'error', 'dist_closest', 'cw_ccw']\n",
    "df.head(30)"
   ]
  },
  {
   "cell_type": "markdown",
   "metadata": {},
   "source": [
    "First, we will ignore that data points come from different subjects. Run the analysis for all the data together and obtain the coefficients of the linear regression that fits the data.  We can run this analysis with the function *ols* in statsmodel.formula.api. Google it to see how it is used. A typical formula is 'Y ~X', where Y and X must be the titles of the columns of the dataframe that you pass to *ols*.\n",
    "\n",
    "By using the dataframe you just have to define the function of the regression that you want to use. Which one is it?"
   ]
  },
  {
   "cell_type": "code",
   "execution_count": 19,
   "metadata": {},
   "outputs": [],
   "source": [
    "df.dist_closest=df.dist_closest*-1"
   ]
  },
  {
   "cell_type": "code",
   "execution_count": 20,
   "metadata": {
    "colab": {},
    "colab_type": "code",
    "id": "dONKI852M0Ed",
    "outputId": "d9e824c3-8060-443d-f4ad-5295ab98e8d2"
   },
   "outputs": [
    {
     "name": "stdout",
     "output_type": "stream",
     "text": [
      "Coefficients: \n",
      " Intercept       0.027865\n",
      "dist_closest    0.069416\n",
      "dtype: float64\n"
     ]
    }
   ],
   "source": [
    "from statsmodels.formula.api import ols\n",
    "\n",
    "mod = ols(formula= 'error ~ dist_closest', data=df)\n",
    "res = mod.fit()\n",
    "\n",
    "# The coefficients\n",
    "print('Coefficients: \\n', res.params)\n"
   ]
  },
  {
   "cell_type": "markdown",
   "metadata": {
    "colab_type": "text",
    "id": "COb3zPghM0Ei"
   },
   "source": [
    "Can we say that the regression is significant? (i.e. is the slope of the regression line significantly different from zero?) Use the regression coefficients to plot the regression line on top of the actual data points (X,Y). Is the result in agreement with the analysis?"
   ]
  },
  {
   "cell_type": "code",
   "execution_count": 21,
   "metadata": {
    "colab": {},
    "colab_type": "code",
    "id": "6qxrAS2zM0Em",
    "outputId": "ad6287ab-249e-4eeb-87ca-8c8156d6a3f7"
   },
   "outputs": [
    {
     "name": "stdout",
     "output_type": "stream",
     "text": [
      "                            OLS Regression Results                            \n",
      "==============================================================================\n",
      "Dep. Variable:                  error   R-squared:                       0.018\n",
      "Model:                            OLS   Adj. R-squared:                  0.017\n",
      "Method:                 Least Squares   F-statistic:                     15.44\n",
      "Date:                Mon, 18 May 2020   Prob (F-statistic):           9.19e-05\n",
      "Time:                        12:10:43   Log-Likelihood:                 415.37\n",
      "No. Observations:                 857   AIC:                            -826.7\n",
      "Df Residuals:                     855   BIC:                            -817.2\n",
      "Df Model:                           1                                         \n",
      "Covariance Type:            nonrobust                                         \n",
      "================================================================================\n",
      "                   coef    std err          t      P>|t|      [0.025      0.975]\n",
      "--------------------------------------------------------------------------------\n",
      "Intercept        0.0279      0.005      5.388      0.000       0.018       0.038\n",
      "dist_closest     0.0694      0.018      3.930      0.000       0.035       0.104\n",
      "==============================================================================\n",
      "Omnibus:                       46.589   Durbin-Watson:                   1.317\n",
      "Prob(Omnibus):                  0.000   Jarque-Bera (JB):              106.716\n",
      "Skew:                           0.303   Prob(JB):                     6.71e-24\n",
      "Kurtosis:                       4.619   Cond. No.                         3.48\n",
      "==============================================================================\n",
      "\n",
      "Warnings:\n",
      "[1] Standard Errors assume that the covariance matrix of the errors is correctly specified.\n",
      "p-value for the slope: p=9.194435144781257e-05\n"
     ]
    },
    {
     "data": {
      "image/png": "[encoded data removed]",
      "text/plain": [
       "<Figure size 432x288 with 1 Axes>"
      ]
     },
     "metadata": {
      "needs_background": "light"
     },
     "output_type": "display_data"
    }
   ],
   "source": [
    "print(res.summary())\n",
    "print(\"p-value for the slope: p=\" + str(res.pvalues[1]))\n",
    "\n",
    "x_data = data[:,6]\n",
    "y_data =  res.params.Intercept  +  res.params.dist_closest *x_data\n",
    "#we plot the regression line\n",
    "plt.plot(x_data, y_data, 'r') \n",
    "# ...and the experimental data\n",
    "plt.plot( df.dist_closest, df.error , 'bo')\n",
    "plt.ylim(-0.7, 0.7)\n",
    "plt.show()"
   ]
  },
  {
   "cell_type": "markdown",
   "metadata": {
    "colab_type": "text",
    "id": "g-i_ThucM0Er"
   },
   "source": [
    "We can now worry about the assumptions of the test, regression is a parametric test and assumes a normal distribution of residual errors. Check the distribution of residuals with *probplot* and with *normaltest*. Google them to learn about these functions. \n"
   ]
  },
  {
   "cell_type": "code",
   "execution_count": 22,
   "metadata": {
    "colab": {},
    "colab_type": "code",
    "id": "NLT4S6HHM0Es",
    "outputId": "bb22e6eb-7bea-4762-c168-256da9064b39"
   },
   "outputs": [
    {
     "name": "stdout",
     "output_type": "stream",
     "text": [
      "NormaltestResult(statistic=46.58913131211773, pvalue=7.643612768572302e-11)\n"
     ]
    },
    {
     "data": {
      "image/png": "[encoded data removed]",
      "text/plain": [
       "<Figure size 432x288 with 1 Axes>"
      ]
     },
     "metadata": {
      "needs_background": "light"
     },
     "output_type": "display_data"
    }
   ],
   "source": [
    "from scipy.stats import probplot\n",
    "from scipy.stats import normaltest\n",
    "\n",
    "probplot(res.resid_pearson, plot=plt);\n",
    "print(normaltest(res.resid_pearson))"
   ]
  },
  {
   "cell_type": "markdown",
   "metadata": {
    "colab_type": "text",
    "id": "VCe6F2rgM0Ey"
   },
   "source": [
    "The test and the graph show that the distribution of residuals is non-Gaussian. This violates the assumptions of the linear regression method. Could it be about outliers?\n",
    "\n",
    "We will thus control the outliers to make sure that they are not driving the result. We thus repeat the analysis without outliers. To identify outliers we will use the *zscore* function. Google about it to learn its meaning. A typical threshold for outliers is 3 standard deviations from the mean, in either direction:"
   ]
  },
  {
   "cell_type": "code",
   "execution_count": 23,
   "metadata": {
    "colab": {},
    "colab_type": "code",
    "id": "s72XFArDM0E2",
    "outputId": "f03f1ad8-033c-4303-a979-ba71f0ad9930",
    "scrolled": false
   },
   "outputs": [
    {
     "name": "stdout",
     "output_type": "stream",
     "text": [
      "Number of Upper outliers : 6\n",
      "Number of Lower outliers : 851\n",
      "                            OLS Regression Results                            \n",
      "==============================================================================\n",
      "Dep. Variable:                  error   R-squared:                       0.021\n",
      "Model:                            OLS   Adj. R-squared:                  0.020\n",
      "Method:                 Least Squares   F-statistic:                     18.59\n",
      "Date:                Mon, 18 May 2020   Prob (F-statistic):           1.81e-05\n",
      "Time:                        12:10:44   Log-Likelihood:                 458.91\n",
      "No. Observations:                 850   AIC:                            -913.8\n",
      "Df Residuals:                     848   BIC:                            -904.3\n",
      "Df Model:                           1                                         \n",
      "Covariance Type:            nonrobust                                         \n",
      "================================================================================\n",
      "                   coef    std err          t      P>|t|      [0.025      0.975]\n",
      "--------------------------------------------------------------------------------\n",
      "Intercept        0.0247      0.005      5.020      0.000       0.015       0.034\n",
      "dist_closest     0.0724      0.017      4.311      0.000       0.039       0.105\n",
      "==============================================================================\n",
      "Omnibus:                        4.644   Durbin-Watson:                   1.349\n",
      "Prob(Omnibus):                  0.098   Jarque-Bera (JB):                5.663\n",
      "Skew:                          -0.023   Prob(JB):                       0.0589\n",
      "Kurtosis:                       3.397   Cond. No.                         3.48\n",
      "==============================================================================\n",
      "\n",
      "Warnings:\n",
      "[1] Standard Errors assume that the covariance matrix of the errors is correctly specified.\n",
      "\n",
      "p-value for the slope: p=1.8129034700593302e-05\n",
      "\n",
      "NormaltestResult(statistic=4.643906879171272, pvalue=0.09808180147236341)\n"
     ]
    },
    {
     "data": {
      "image/png": "[encoded data removed]",
      "text/plain": [
       "<Figure size 432x288 with 1 Axes>"
      ]
     },
     "metadata": {
      "needs_background": "light"
     },
     "output_type": "display_data"
    }
   ],
   "source": [
    "from scipy.stats import zscore # we import the zscore function\n",
    "\n",
    "# get the number of upper outliers \n",
    "upp_out = sum(zscore(df.error ) > 3 )\n",
    "print('Number of Upper outliers : ' +str(upp_out))\n",
    "\n",
    "# get the number of lower outliers\n",
    "low_out = sum(zscore(df.error) < 3 )\n",
    "print('Number of Lower outliers : ' +str(low_out))\n",
    "\n",
    "# now get the dataset excluding outliers\n",
    "rem_out = abs(zscore(df.error)) < 3 # boolean for the non-outlier data rows\n",
    "data_out = data[rem_out] # data without outliers\n",
    "\n",
    "# we now build a Pandas Dataframe with this dataset\n",
    "df_out = pd.DataFrame(data_out)\n",
    "df_out.columns=['response', 'target', 'near', 'far', 'subj', 'error', 'dist_closest', 'cw_ccw']\n",
    "\n",
    "# and we run the regression analysis\n",
    "mod_out = ols(formula= 'error ~ dist_closest' , data=df_out)\n",
    "res_out = mod_out.fit()\n",
    "\n",
    "# we show the results\n",
    "print( res_out.summary() )\n",
    "print('')\n",
    "print(\"p-value for the slope: p=\" + str(res_out.pvalues[1]))\n",
    "print('')\n",
    "\n",
    "#and we test if the new data conforms to the Gaussian hypothesis\n",
    "probplot( res_out.resid_pearson , plot=plt);\n",
    "print(normaltest( res_out.resid_pearson ))"
   ]
  },
  {
   "cell_type": "markdown",
   "metadata": {
    "colab_type": "text",
    "id": "XvPQUUeWM0E6"
   },
   "source": [
    "After removing 7 outliers in our data, we now find that the residuals of our model are distributed following a Gaussian distribution approximately, as the blue dots fall on the red line on the one hand, and the normality test on our residuals yields a non-significant p-value."
   ]
  },
  {
   "cell_type": "markdown",
   "metadata": {},
   "source": [
    "The three examples in the figure below illustrate 3 different situations with outliers. In case 1, the outlier is totally determining the regression so that if we drop it, the effect is gone (we cannot reject the horizontal line as best fit). In this case the outlier HAS to be dropped and you are not allowed to report any effect. This are the bad outliers. In case 2, the outlier has an effect on your data (the slope of the regression changes with and without the outlier, and the quality of the fit, too), but it does not change qualitatively your conclusions (still positive regression slope). You are allowed to remove the outlier but you should report the two values of the slope, when you have it and when you don't. The best case is case 3, where independently of whether you include the outlier or not, the result of your analysis is the same. In this case you can drop the outlier safely. In any case, you have to report that there was an outlier and that you dropped it for such and such reasons."
   ]
  },
  {
   "cell_type": "markdown",
   "metadata": {},
   "source": [
    "![](I:\\\\31869\\\\imgs\\\\outliers.png)"
   ]
  },
  {
   "cell_type": "markdown",
   "metadata": {},
   "source": [
    "### Linear regression with categorical variables"
   ]
  },
  {
   "cell_type": "markdown",
   "metadata": {
    "colab_type": "text",
    "id": "klu1tOD6M0E8"
   },
   "source": [
    "Now we realize that in the regression analysis we included data points that were not truly independent, as they were collected in 9 different subjects. We thus want to include that part of the design in the regression analysis, as it could increase the statistical power. When we do that, we will need to use a “general linear model”, a linear model that includes factors of mixed nature, some being categorical and some continuous (as in regression). This is the most common situation and a general analysis tool that encompasses all the previous techniques in this assignment. To include subject identity in the design of a general linear model, we need to define the regressors as categorical, because otherwise it would be regressing orderly along our subject numbers. This is really simple by using the formula. Writting C('factor') instead of 'factor' makes it categorical. Implement that in the regression. \n",
    "\n",
    "Can you find the p-value for the regressor of interest? Why are the other regressors not “of interest”? Why do we include them, then? \n",
    "\n"
   ]
  },
  {
   "cell_type": "code",
   "execution_count": 24,
   "metadata": {
    "colab": {},
    "colab_type": "code",
    "id": "v2vZeNuvM0FA",
    "outputId": "c3464ba7-aa17-4505-9073-47855a1e1ab1"
   },
   "outputs": [
    {
     "name": "stdout",
     "output_type": "stream",
     "text": [
      "                            OLS Regression Results                            \n",
      "==============================================================================\n",
      "Dep. Variable:                  error   R-squared:                       0.039\n",
      "Model:                            OLS   Adj. R-squared:                  0.029\n",
      "Method:                 Least Squares   F-statistic:                     3.773\n",
      "Date:                Mon, 18 May 2020   Prob (F-statistic):           0.000113\n",
      "Time:                        12:10:44   Log-Likelihood:                 466.54\n",
      "No. Observations:                 850   AIC:                            -913.1\n",
      "Df Residuals:                     840   BIC:                            -865.6\n",
      "Df Model:                           9                                         \n",
      "Covariance Type:            nonrobust                                         \n",
      "==================================================================================\n",
      "                     coef    std err          t      P>|t|      [0.025      0.975]\n",
      "----------------------------------------------------------------------------------\n",
      "Intercept          0.0019      0.016      0.117      0.907      -0.030       0.034\n",
      "C(subj)[T.1.0]    -0.0124      0.026     -0.469      0.639      -0.064       0.039\n",
      "C(subj)[T.2.0]     0.0584      0.022      2.687      0.007       0.016       0.101\n",
      "C(subj)[T.3.0]     0.0113      0.023      0.484      0.629      -0.035       0.057\n",
      "C(subj)[T.4.0]     0.0072      0.023      0.307      0.759      -0.039       0.053\n",
      "C(subj)[T.5.0]     0.0449      0.022      2.001      0.046       0.001       0.089\n",
      "C(subj)[T.6.0]     0.0181      0.019      0.951      0.342      -0.019       0.056\n",
      "C(subj)[T.7.0]     0.0361      0.021      1.714      0.087      -0.005       0.077\n",
      "C(subj)[T.8.0]     0.0202      0.021      0.980      0.327      -0.020       0.061\n",
      "dist_closest       0.0742      0.017      4.377      0.000       0.041       0.107\n",
      "==============================================================================\n",
      "Omnibus:                        4.417   Durbin-Watson:                   1.374\n",
      "Prob(Omnibus):                  0.110   Jarque-Bera (JB):                5.357\n",
      "Skew:                          -0.001   Prob(JB):                       0.0687\n",
      "Kurtosis:                       3.389   Cond. No.                         11.1\n",
      "==============================================================================\n",
      "\n",
      "Warnings:\n",
      "[1] Standard Errors assume that the covariance matrix of the errors is correctly specified.\n",
      "p-value for the slope: p=0.6392105248891617\n"
     ]
    },
    {
     "data": {
      "text/plain": [
       "0.10984145116061456"
      ]
     },
     "execution_count": 24,
     "metadata": {},
     "output_type": "execute_result"
    },
    {
     "data": {
      "image/png": "[encoded data removed]",
      "text/plain": [
       "<Figure size 432x288 with 1 Axes>"
      ]
     },
     "metadata": {
      "needs_background": "light"
     },
     "output_type": "display_data"
    }
   ],
   "source": [
    "mod_sub = ols(formula= 'error ~ dist_closest + C(subj)' , data=df_out)\n",
    "res_sub = mod_sub.fit()\n",
    "\n",
    "print( res_sub.summary() )\n",
    "print(\"p-value for the slope: p=\" + str(res_sub.pvalues[1]))\n",
    "\n",
    "probplot(res_sub.resid_pearson, plot=plt);\n",
    "normaltest(res_sub.resid_pearson)[1]"
   ]
  },
  {
   "cell_type": "markdown",
   "metadata": {
    "colab_type": "text",
    "id": "Syq7l0DAM0FE"
   },
   "source": [
    "\n",
    "In this assignment we have dealt with adding regressors that are not of interest *per se* in our analysis, but that we include in order to improve the model fit for our factor of interest. This is the classic condition for the “subject” part of the design (which, in addition could be treated as a random factor, try and read about that when you get to use these methods in your own data). In the assignment next week we will work with designs that have several factors of interest, and we will analyze the concept of interaction."
   ]
  },
  {
   "cell_type": "code",
   "execution_count": null,
   "metadata": {
    "colab": {},
    "colab_type": "code",
    "id": "OawmGQU2M0FF"
   },
   "outputs": [],
   "source": []
  },
  {
   "cell_type": "code",
   "execution_count": null,
   "metadata": {},
   "outputs": [],
   "source": []
  }
 ],
 "metadata": {
  "colab": {
   "name": "assignment_4-full.ipynb",
   "provenance": []
  },
  "kernelspec": {
   "display_name": "Python 3",
   "language": "python",
   "name": "python3"
  },
  "language_info": {
   "codemirror_mode": {
    "name": "ipython",
    "version": 3
   },
   "file_extension": ".py",
   "mimetype": "text/x-python",
   "name": "python",
   "nbconvert_exporter": "python",
   "pygments_lexer": "ipython3",
   "version": "3.7.4"
  }
 },
 "nbformat": 4,
 "nbformat_minor": 1
}
